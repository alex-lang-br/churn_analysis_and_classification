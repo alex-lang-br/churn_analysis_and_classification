{
  "nbformat": 4,
  "nbformat_minor": 0,
  "metadata": {
    "colab": {
      "name": "Churn_prediction.ipynb",
      "provenance": []
    },
    "kernelspec": {
      "name": "python3",
      "display_name": "Python 3"
    },
    "language_info": {
      "name": "python"
    }
  },
  "cells": [
    {
      "cell_type": "markdown",
      "source": [
        "# INTRODUCTION TO ML: FINAL PROJECT"
      ],
      "metadata": {
        "id": "r6XRbo08dFGv"
      }
    },
    {
      "cell_type": "markdown",
      "source": [
        "## About this project"
      ],
      "metadata": {
        "id": "Eu1FlDjEdKDi"
      }
    },
    {
      "cell_type": "markdown",
      "source": [
        "### For this project, I decided to do a customer churn analysis on the telecommunications industry. We will first start by doing some EDA and data cleaning (fixing data types, dropping NaNs...), then we'll do some visualization. The last part will focus on the model building and performance, with a short conclusion on the learning process and what worked and what didn't.\n",
        "### The dataset is recent and comes from Kaggle (https://www.kaggle.com/datasets/shilongzhuang/telecom-customer-churn-by-maven-analytics), and is around 1.5mb in csv format"
      ],
      "metadata": {
        "id": "HerHNw95dQx7"
      }
    },
    {
      "cell_type": "code",
      "execution_count": 1,
      "metadata": {
        "id": "--qLmqQUdElm"
      },
      "outputs": [],
      "source": [
        "import pandas as pd\n",
        "import numpy as np \n",
        "import seaborn as sns\n",
        "import matplotlib.pyplot as plt"
      ]
    },
    {
      "cell_type": "code",
      "source": [
        "data = pd.read_csv('telecom_customer_churn.csv')"
      ],
      "metadata": {
        "id": "znOJPnAIgZ90"
      },
      "execution_count": 2,
      "outputs": []
    },
    {
      "cell_type": "markdown",
      "source": [
        "## PART 1: EDA AND VISUALIZATION"
      ],
      "metadata": {
        "id": "Z0TJ9HU5i7nU"
      }
    },
    {
      "cell_type": "code",
      "source": [
        "data.head()"
      ],
      "metadata": {
        "colab": {
          "base_uri": "https://localhost:8080/",
          "height": 332
        },
        "id": "3jxwPduOgffG",
        "outputId": "59092718-1f1d-4844-b721-4dc38e1e451f"
      },
      "execution_count": 3,
      "outputs": [
        {
          "output_type": "execute_result",
          "data": {
            "text/plain": [
              "  Customer ID  Gender  Age Married  Number of Dependents          City  \\\n",
              "0  0002-ORFBO  Female   37     Yes                     0  Frazier Park   \n",
              "1  0003-MKNFE    Male   46      No                     0      Glendale   \n",
              "2  0004-TLHLJ    Male   50      No                     0    Costa Mesa   \n",
              "3  0011-IGKFF    Male   78     Yes                     0      Martinez   \n",
              "4  0013-EXCHZ  Female   75     Yes                     0     Camarillo   \n",
              "\n",
              "   Zip Code   Latitude   Longitude  Number of Referrals  ...   Payment Method  \\\n",
              "0     93225  34.827662 -118.999073                    2  ...      Credit Card   \n",
              "1     91206  34.162515 -118.203869                    0  ...      Credit Card   \n",
              "2     92627  33.645672 -117.922613                    0  ...  Bank Withdrawal   \n",
              "3     94553  38.014457 -122.115432                    1  ...  Bank Withdrawal   \n",
              "4     93010  34.227846 -119.079903                    3  ...      Credit Card   \n",
              "\n",
              "  Monthly Charge Total Charges  Total Refunds Total Extra Data Charges  \\\n",
              "0           65.6        593.30           0.00                        0   \n",
              "1           -4.0        542.40          38.33                       10   \n",
              "2           73.9        280.85           0.00                        0   \n",
              "3           98.0       1237.85           0.00                        0   \n",
              "4           83.9        267.40           0.00                        0   \n",
              "\n",
              "  Total Long Distance Charges Total Revenue  Customer Status   Churn Category  \\\n",
              "0                      381.51        974.81           Stayed              NaN   \n",
              "1                       96.21        610.28           Stayed              NaN   \n",
              "2                      134.60        415.45          Churned       Competitor   \n",
              "3                      361.66       1599.51          Churned  Dissatisfaction   \n",
              "4                       22.14        289.54          Churned  Dissatisfaction   \n",
              "\n",
              "                    Churn Reason  \n",
              "0                            NaN  \n",
              "1                            NaN  \n",
              "2  Competitor had better devices  \n",
              "3        Product dissatisfaction  \n",
              "4            Network reliability  \n",
              "\n",
              "[5 rows x 38 columns]"
            ],
            "text/html": [
              "\n",
              "  <div id=\"df-0b413b9d-1032-4809-af51-0c1237effec5\">\n",
              "    <div class=\"colab-df-container\">\n",
              "      <div>\n",
              "<style scoped>\n",
              "    .dataframe tbody tr th:only-of-type {\n",
              "        vertical-align: middle;\n",
              "    }\n",
              "\n",
              "    .dataframe tbody tr th {\n",
              "        vertical-align: top;\n",
              "    }\n",
              "\n",
              "    .dataframe thead th {\n",
              "        text-align: right;\n",
              "    }\n",
              "</style>\n",
              "<table border=\"1\" class=\"dataframe\">\n",
              "  <thead>\n",
              "    <tr style=\"text-align: right;\">\n",
              "      <th></th>\n",
              "      <th>Customer ID</th>\n",
              "      <th>Gender</th>\n",
              "      <th>Age</th>\n",
              "      <th>Married</th>\n",
              "      <th>Number of Dependents</th>\n",
              "      <th>City</th>\n",
              "      <th>Zip Code</th>\n",
              "      <th>Latitude</th>\n",
              "      <th>Longitude</th>\n",
              "      <th>Number of Referrals</th>\n",
              "      <th>...</th>\n",
              "      <th>Payment Method</th>\n",
              "      <th>Monthly Charge</th>\n",
              "      <th>Total Charges</th>\n",
              "      <th>Total Refunds</th>\n",
              "      <th>Total Extra Data Charges</th>\n",
              "      <th>Total Long Distance Charges</th>\n",
              "      <th>Total Revenue</th>\n",
              "      <th>Customer Status</th>\n",
              "      <th>Churn Category</th>\n",
              "      <th>Churn Reason</th>\n",
              "    </tr>\n",
              "  </thead>\n",
              "  <tbody>\n",
              "    <tr>\n",
              "      <th>0</th>\n",
              "      <td>0002-ORFBO</td>\n",
              "      <td>Female</td>\n",
              "      <td>37</td>\n",
              "      <td>Yes</td>\n",
              "      <td>0</td>\n",
              "      <td>Frazier Park</td>\n",
              "      <td>93225</td>\n",
              "      <td>34.827662</td>\n",
              "      <td>-118.999073</td>\n",
              "      <td>2</td>\n",
              "      <td>...</td>\n",
              "      <td>Credit Card</td>\n",
              "      <td>65.6</td>\n",
              "      <td>593.30</td>\n",
              "      <td>0.00</td>\n",
              "      <td>0</td>\n",
              "      <td>381.51</td>\n",
              "      <td>974.81</td>\n",
              "      <td>Stayed</td>\n",
              "      <td>NaN</td>\n",
              "      <td>NaN</td>\n",
              "    </tr>\n",
              "    <tr>\n",
              "      <th>1</th>\n",
              "      <td>0003-MKNFE</td>\n",
              "      <td>Male</td>\n",
              "      <td>46</td>\n",
              "      <td>No</td>\n",
              "      <td>0</td>\n",
              "      <td>Glendale</td>\n",
              "      <td>91206</td>\n",
              "      <td>34.162515</td>\n",
              "      <td>-118.203869</td>\n",
              "      <td>0</td>\n",
              "      <td>...</td>\n",
              "      <td>Credit Card</td>\n",
              "      <td>-4.0</td>\n",
              "      <td>542.40</td>\n",
              "      <td>38.33</td>\n",
              "      <td>10</td>\n",
              "      <td>96.21</td>\n",
              "      <td>610.28</td>\n",
              "      <td>Stayed</td>\n",
              "      <td>NaN</td>\n",
              "      <td>NaN</td>\n",
              "    </tr>\n",
              "    <tr>\n",
              "      <th>2</th>\n",
              "      <td>0004-TLHLJ</td>\n",
              "      <td>Male</td>\n",
              "      <td>50</td>\n",
              "      <td>No</td>\n",
              "      <td>0</td>\n",
              "      <td>Costa Mesa</td>\n",
              "      <td>92627</td>\n",
              "      <td>33.645672</td>\n",
              "      <td>-117.922613</td>\n",
              "      <td>0</td>\n",
              "      <td>...</td>\n",
              "      <td>Bank Withdrawal</td>\n",
              "      <td>73.9</td>\n",
              "      <td>280.85</td>\n",
              "      <td>0.00</td>\n",
              "      <td>0</td>\n",
              "      <td>134.60</td>\n",
              "      <td>415.45</td>\n",
              "      <td>Churned</td>\n",
              "      <td>Competitor</td>\n",
              "      <td>Competitor had better devices</td>\n",
              "    </tr>\n",
              "    <tr>\n",
              "      <th>3</th>\n",
              "      <td>0011-IGKFF</td>\n",
              "      <td>Male</td>\n",
              "      <td>78</td>\n",
              "      <td>Yes</td>\n",
              "      <td>0</td>\n",
              "      <td>Martinez</td>\n",
              "      <td>94553</td>\n",
              "      <td>38.014457</td>\n",
              "      <td>-122.115432</td>\n",
              "      <td>1</td>\n",
              "      <td>...</td>\n",
              "      <td>Bank Withdrawal</td>\n",
              "      <td>98.0</td>\n",
              "      <td>1237.85</td>\n",
              "      <td>0.00</td>\n",
              "      <td>0</td>\n",
              "      <td>361.66</td>\n",
              "      <td>1599.51</td>\n",
              "      <td>Churned</td>\n",
              "      <td>Dissatisfaction</td>\n",
              "      <td>Product dissatisfaction</td>\n",
              "    </tr>\n",
              "    <tr>\n",
              "      <th>4</th>\n",
              "      <td>0013-EXCHZ</td>\n",
              "      <td>Female</td>\n",
              "      <td>75</td>\n",
              "      <td>Yes</td>\n",
              "      <td>0</td>\n",
              "      <td>Camarillo</td>\n",
              "      <td>93010</td>\n",
              "      <td>34.227846</td>\n",
              "      <td>-119.079903</td>\n",
              "      <td>3</td>\n",
              "      <td>...</td>\n",
              "      <td>Credit Card</td>\n",
              "      <td>83.9</td>\n",
              "      <td>267.40</td>\n",
              "      <td>0.00</td>\n",
              "      <td>0</td>\n",
              "      <td>22.14</td>\n",
              "      <td>289.54</td>\n",
              "      <td>Churned</td>\n",
              "      <td>Dissatisfaction</td>\n",
              "      <td>Network reliability</td>\n",
              "    </tr>\n",
              "  </tbody>\n",
              "</table>\n",
              "<p>5 rows × 38 columns</p>\n",
              "</div>\n",
              "      <button class=\"colab-df-convert\" onclick=\"convertToInteractive('df-0b413b9d-1032-4809-af51-0c1237effec5')\"\n",
              "              title=\"Convert this dataframe to an interactive table.\"\n",
              "              style=\"display:none;\">\n",
              "        \n",
              "  <svg xmlns=\"http://www.w3.org/2000/svg\" height=\"24px\"viewBox=\"0 0 24 24\"\n",
              "       width=\"24px\">\n",
              "    <path d=\"M0 0h24v24H0V0z\" fill=\"none\"/>\n",
              "    <path d=\"M18.56 5.44l.94 2.06.94-2.06 2.06-.94-2.06-.94-.94-2.06-.94 2.06-2.06.94zm-11 1L8.5 8.5l.94-2.06 2.06-.94-2.06-.94L8.5 2.5l-.94 2.06-2.06.94zm10 10l.94 2.06.94-2.06 2.06-.94-2.06-.94-.94-2.06-.94 2.06-2.06.94z\"/><path d=\"M17.41 7.96l-1.37-1.37c-.4-.4-.92-.59-1.43-.59-.52 0-1.04.2-1.43.59L10.3 9.45l-7.72 7.72c-.78.78-.78 2.05 0 2.83L4 21.41c.39.39.9.59 1.41.59.51 0 1.02-.2 1.41-.59l7.78-7.78 2.81-2.81c.8-.78.8-2.07 0-2.86zM5.41 20L4 18.59l7.72-7.72 1.47 1.35L5.41 20z\"/>\n",
              "  </svg>\n",
              "      </button>\n",
              "      \n",
              "  <style>\n",
              "    .colab-df-container {\n",
              "      display:flex;\n",
              "      flex-wrap:wrap;\n",
              "      gap: 12px;\n",
              "    }\n",
              "\n",
              "    .colab-df-convert {\n",
              "      background-color: #E8F0FE;\n",
              "      border: none;\n",
              "      border-radius: 50%;\n",
              "      cursor: pointer;\n",
              "      display: none;\n",
              "      fill: #1967D2;\n",
              "      height: 32px;\n",
              "      padding: 0 0 0 0;\n",
              "      width: 32px;\n",
              "    }\n",
              "\n",
              "    .colab-df-convert:hover {\n",
              "      background-color: #E2EBFA;\n",
              "      box-shadow: 0px 1px 2px rgba(60, 64, 67, 0.3), 0px 1px 3px 1px rgba(60, 64, 67, 0.15);\n",
              "      fill: #174EA6;\n",
              "    }\n",
              "\n",
              "    [theme=dark] .colab-df-convert {\n",
              "      background-color: #3B4455;\n",
              "      fill: #D2E3FC;\n",
              "    }\n",
              "\n",
              "    [theme=dark] .colab-df-convert:hover {\n",
              "      background-color: #434B5C;\n",
              "      box-shadow: 0px 1px 3px 1px rgba(0, 0, 0, 0.15);\n",
              "      filter: drop-shadow(0px 1px 2px rgba(0, 0, 0, 0.3));\n",
              "      fill: #FFFFFF;\n",
              "    }\n",
              "  </style>\n",
              "\n",
              "      <script>\n",
              "        const buttonEl =\n",
              "          document.querySelector('#df-0b413b9d-1032-4809-af51-0c1237effec5 button.colab-df-convert');\n",
              "        buttonEl.style.display =\n",
              "          google.colab.kernel.accessAllowed ? 'block' : 'none';\n",
              "\n",
              "        async function convertToInteractive(key) {\n",
              "          const element = document.querySelector('#df-0b413b9d-1032-4809-af51-0c1237effec5');\n",
              "          const dataTable =\n",
              "            await google.colab.kernel.invokeFunction('convertToInteractive',\n",
              "                                                     [key], {});\n",
              "          if (!dataTable) return;\n",
              "\n",
              "          const docLinkHtml = 'Like what you see? Visit the ' +\n",
              "            '<a target=\"_blank\" href=https://colab.research.google.com/notebooks/data_table.ipynb>data table notebook</a>'\n",
              "            + ' to learn more about interactive tables.';\n",
              "          element.innerHTML = '';\n",
              "          dataTable['output_type'] = 'display_data';\n",
              "          await google.colab.output.renderOutput(dataTable, element);\n",
              "          const docLink = document.createElement('div');\n",
              "          docLink.innerHTML = docLinkHtml;\n",
              "          element.appendChild(docLink);\n",
              "        }\n",
              "      </script>\n",
              "    </div>\n",
              "  </div>\n",
              "  "
            ]
          },
          "metadata": {},
          "execution_count": 3
        }
      ]
    },
    {
      "cell_type": "code",
      "source": [
        "data.columns"
      ],
      "metadata": {
        "colab": {
          "base_uri": "https://localhost:8080/"
        },
        "id": "cdeWACuIgp8A",
        "outputId": "46b12f81-d676-484c-b1ed-2fa072ed762a"
      },
      "execution_count": 4,
      "outputs": [
        {
          "output_type": "execute_result",
          "data": {
            "text/plain": [
              "Index(['Customer ID', 'Gender', 'Age', 'Married', 'Number of Dependents',\n",
              "       'City', 'Zip Code', 'Latitude', 'Longitude', 'Number of Referrals',\n",
              "       'Tenure in Months', 'Offer', 'Phone Service',\n",
              "       'Avg Monthly Long Distance Charges', 'Multiple Lines',\n",
              "       'Internet Service', 'Internet Type', 'Avg Monthly GB Download',\n",
              "       'Online Security', 'Online Backup', 'Device Protection Plan',\n",
              "       'Premium Tech Support', 'Streaming TV', 'Streaming Movies',\n",
              "       'Streaming Music', 'Unlimited Data', 'Contract', 'Paperless Billing',\n",
              "       'Payment Method', 'Monthly Charge', 'Total Charges', 'Total Refunds',\n",
              "       'Total Extra Data Charges', 'Total Long Distance Charges',\n",
              "       'Total Revenue', 'Customer Status', 'Churn Category', 'Churn Reason'],\n",
              "      dtype='object')"
            ]
          },
          "metadata": {},
          "execution_count": 4
        }
      ]
    },
    {
      "cell_type": "code",
      "source": [
        "data.describe()"
      ],
      "metadata": {
        "colab": {
          "base_uri": "https://localhost:8080/",
          "height": 300
        },
        "id": "Q54sumg5jFAK",
        "outputId": "ad9e0944-0e3a-4564-9ba4-128d6b3bd456"
      },
      "execution_count": 5,
      "outputs": [
        {
          "output_type": "execute_result",
          "data": {
            "text/plain": [
              "               Age  Number of Dependents      Zip Code     Latitude  \\\n",
              "count  7043.000000           7043.000000   7043.000000  7043.000000   \n",
              "mean     46.509726              0.468692  93486.070567    36.197455   \n",
              "std      16.750352              0.962802   1856.767505     2.468929   \n",
              "min      19.000000              0.000000  90001.000000    32.555828   \n",
              "25%      32.000000              0.000000  92101.000000    33.990646   \n",
              "50%      46.000000              0.000000  93518.000000    36.205465   \n",
              "75%      60.000000              0.000000  95329.000000    38.161321   \n",
              "max      80.000000              9.000000  96150.000000    41.962127   \n",
              "\n",
              "         Longitude  Number of Referrals  Tenure in Months  \\\n",
              "count  7043.000000          7043.000000       7043.000000   \n",
              "mean   -119.756684             1.951867         32.386767   \n",
              "std       2.154425             3.001199         24.542061   \n",
              "min    -124.301372             0.000000          1.000000   \n",
              "25%    -121.788090             0.000000          9.000000   \n",
              "50%    -119.595293             0.000000         29.000000   \n",
              "75%    -117.969795             3.000000         55.000000   \n",
              "max    -114.192901            11.000000         72.000000   \n",
              "\n",
              "       Avg Monthly Long Distance Charges  Avg Monthly GB Download  \\\n",
              "count                        6361.000000              5517.000000   \n",
              "mean                           25.420517                26.189958   \n",
              "std                            14.200374                19.586585   \n",
              "min                             1.010000                 2.000000   \n",
              "25%                            13.050000                13.000000   \n",
              "50%                            25.690000                21.000000   \n",
              "75%                            37.680000                30.000000   \n",
              "max                            49.990000                85.000000   \n",
              "\n",
              "       Monthly Charge  Total Charges  Total Refunds  Total Extra Data Charges  \\\n",
              "count     7043.000000    7043.000000    7043.000000               7043.000000   \n",
              "mean        63.596131    2280.381264       1.962182                  6.860713   \n",
              "std         31.204743    2266.220462       7.902614                 25.104978   \n",
              "min        -10.000000      18.800000       0.000000                  0.000000   \n",
              "25%         30.400000     400.150000       0.000000                  0.000000   \n",
              "50%         70.050000    1394.550000       0.000000                  0.000000   \n",
              "75%         89.750000    3786.600000       0.000000                  0.000000   \n",
              "max        118.750000    8684.800000      49.790000                150.000000   \n",
              "\n",
              "       Total Long Distance Charges  Total Revenue  \n",
              "count                  7043.000000    7043.000000  \n",
              "mean                    749.099262    3034.379056  \n",
              "std                     846.660055    2865.204542  \n",
              "min                       0.000000      21.360000  \n",
              "25%                      70.545000     605.610000  \n",
              "50%                     401.440000    2108.640000  \n",
              "75%                    1191.100000    4801.145000  \n",
              "max                    3564.720000   11979.340000  "
            ],
            "text/html": [
              "\n",
              "  <div id=\"df-cb97db49-f3d5-47ec-b2d4-f56a222421d0\">\n",
              "    <div class=\"colab-df-container\">\n",
              "      <div>\n",
              "<style scoped>\n",
              "    .dataframe tbody tr th:only-of-type {\n",
              "        vertical-align: middle;\n",
              "    }\n",
              "\n",
              "    .dataframe tbody tr th {\n",
              "        vertical-align: top;\n",
              "    }\n",
              "\n",
              "    .dataframe thead th {\n",
              "        text-align: right;\n",
              "    }\n",
              "</style>\n",
              "<table border=\"1\" class=\"dataframe\">\n",
              "  <thead>\n",
              "    <tr style=\"text-align: right;\">\n",
              "      <th></th>\n",
              "      <th>Age</th>\n",
              "      <th>Number of Dependents</th>\n",
              "      <th>Zip Code</th>\n",
              "      <th>Latitude</th>\n",
              "      <th>Longitude</th>\n",
              "      <th>Number of Referrals</th>\n",
              "      <th>Tenure in Months</th>\n",
              "      <th>Avg Monthly Long Distance Charges</th>\n",
              "      <th>Avg Monthly GB Download</th>\n",
              "      <th>Monthly Charge</th>\n",
              "      <th>Total Charges</th>\n",
              "      <th>Total Refunds</th>\n",
              "      <th>Total Extra Data Charges</th>\n",
              "      <th>Total Long Distance Charges</th>\n",
              "      <th>Total Revenue</th>\n",
              "    </tr>\n",
              "  </thead>\n",
              "  <tbody>\n",
              "    <tr>\n",
              "      <th>count</th>\n",
              "      <td>7043.000000</td>\n",
              "      <td>7043.000000</td>\n",
              "      <td>7043.000000</td>\n",
              "      <td>7043.000000</td>\n",
              "      <td>7043.000000</td>\n",
              "      <td>7043.000000</td>\n",
              "      <td>7043.000000</td>\n",
              "      <td>6361.000000</td>\n",
              "      <td>5517.000000</td>\n",
              "      <td>7043.000000</td>\n",
              "      <td>7043.000000</td>\n",
              "      <td>7043.000000</td>\n",
              "      <td>7043.000000</td>\n",
              "      <td>7043.000000</td>\n",
              "      <td>7043.000000</td>\n",
              "    </tr>\n",
              "    <tr>\n",
              "      <th>mean</th>\n",
              "      <td>46.509726</td>\n",
              "      <td>0.468692</td>\n",
              "      <td>93486.070567</td>\n",
              "      <td>36.197455</td>\n",
              "      <td>-119.756684</td>\n",
              "      <td>1.951867</td>\n",
              "      <td>32.386767</td>\n",
              "      <td>25.420517</td>\n",
              "      <td>26.189958</td>\n",
              "      <td>63.596131</td>\n",
              "      <td>2280.381264</td>\n",
              "      <td>1.962182</td>\n",
              "      <td>6.860713</td>\n",
              "      <td>749.099262</td>\n",
              "      <td>3034.379056</td>\n",
              "    </tr>\n",
              "    <tr>\n",
              "      <th>std</th>\n",
              "      <td>16.750352</td>\n",
              "      <td>0.962802</td>\n",
              "      <td>1856.767505</td>\n",
              "      <td>2.468929</td>\n",
              "      <td>2.154425</td>\n",
              "      <td>3.001199</td>\n",
              "      <td>24.542061</td>\n",
              "      <td>14.200374</td>\n",
              "      <td>19.586585</td>\n",
              "      <td>31.204743</td>\n",
              "      <td>2266.220462</td>\n",
              "      <td>7.902614</td>\n",
              "      <td>25.104978</td>\n",
              "      <td>846.660055</td>\n",
              "      <td>2865.204542</td>\n",
              "    </tr>\n",
              "    <tr>\n",
              "      <th>min</th>\n",
              "      <td>19.000000</td>\n",
              "      <td>0.000000</td>\n",
              "      <td>90001.000000</td>\n",
              "      <td>32.555828</td>\n",
              "      <td>-124.301372</td>\n",
              "      <td>0.000000</td>\n",
              "      <td>1.000000</td>\n",
              "      <td>1.010000</td>\n",
              "      <td>2.000000</td>\n",
              "      <td>-10.000000</td>\n",
              "      <td>18.800000</td>\n",
              "      <td>0.000000</td>\n",
              "      <td>0.000000</td>\n",
              "      <td>0.000000</td>\n",
              "      <td>21.360000</td>\n",
              "    </tr>\n",
              "    <tr>\n",
              "      <th>25%</th>\n",
              "      <td>32.000000</td>\n",
              "      <td>0.000000</td>\n",
              "      <td>92101.000000</td>\n",
              "      <td>33.990646</td>\n",
              "      <td>-121.788090</td>\n",
              "      <td>0.000000</td>\n",
              "      <td>9.000000</td>\n",
              "      <td>13.050000</td>\n",
              "      <td>13.000000</td>\n",
              "      <td>30.400000</td>\n",
              "      <td>400.150000</td>\n",
              "      <td>0.000000</td>\n",
              "      <td>0.000000</td>\n",
              "      <td>70.545000</td>\n",
              "      <td>605.610000</td>\n",
              "    </tr>\n",
              "    <tr>\n",
              "      <th>50%</th>\n",
              "      <td>46.000000</td>\n",
              "      <td>0.000000</td>\n",
              "      <td>93518.000000</td>\n",
              "      <td>36.205465</td>\n",
              "      <td>-119.595293</td>\n",
              "      <td>0.000000</td>\n",
              "      <td>29.000000</td>\n",
              "      <td>25.690000</td>\n",
              "      <td>21.000000</td>\n",
              "      <td>70.050000</td>\n",
              "      <td>1394.550000</td>\n",
              "      <td>0.000000</td>\n",
              "      <td>0.000000</td>\n",
              "      <td>401.440000</td>\n",
              "      <td>2108.640000</td>\n",
              "    </tr>\n",
              "    <tr>\n",
              "      <th>75%</th>\n",
              "      <td>60.000000</td>\n",
              "      <td>0.000000</td>\n",
              "      <td>95329.000000</td>\n",
              "      <td>38.161321</td>\n",
              "      <td>-117.969795</td>\n",
              "      <td>3.000000</td>\n",
              "      <td>55.000000</td>\n",
              "      <td>37.680000</td>\n",
              "      <td>30.000000</td>\n",
              "      <td>89.750000</td>\n",
              "      <td>3786.600000</td>\n",
              "      <td>0.000000</td>\n",
              "      <td>0.000000</td>\n",
              "      <td>1191.100000</td>\n",
              "      <td>4801.145000</td>\n",
              "    </tr>\n",
              "    <tr>\n",
              "      <th>max</th>\n",
              "      <td>80.000000</td>\n",
              "      <td>9.000000</td>\n",
              "      <td>96150.000000</td>\n",
              "      <td>41.962127</td>\n",
              "      <td>-114.192901</td>\n",
              "      <td>11.000000</td>\n",
              "      <td>72.000000</td>\n",
              "      <td>49.990000</td>\n",
              "      <td>85.000000</td>\n",
              "      <td>118.750000</td>\n",
              "      <td>8684.800000</td>\n",
              "      <td>49.790000</td>\n",
              "      <td>150.000000</td>\n",
              "      <td>3564.720000</td>\n",
              "      <td>11979.340000</td>\n",
              "    </tr>\n",
              "  </tbody>\n",
              "</table>\n",
              "</div>\n",
              "      <button class=\"colab-df-convert\" onclick=\"convertToInteractive('df-cb97db49-f3d5-47ec-b2d4-f56a222421d0')\"\n",
              "              title=\"Convert this dataframe to an interactive table.\"\n",
              "              style=\"display:none;\">\n",
              "        \n",
              "  <svg xmlns=\"http://www.w3.org/2000/svg\" height=\"24px\"viewBox=\"0 0 24 24\"\n",
              "       width=\"24px\">\n",
              "    <path d=\"M0 0h24v24H0V0z\" fill=\"none\"/>\n",
              "    <path d=\"M18.56 5.44l.94 2.06.94-2.06 2.06-.94-2.06-.94-.94-2.06-.94 2.06-2.06.94zm-11 1L8.5 8.5l.94-2.06 2.06-.94-2.06-.94L8.5 2.5l-.94 2.06-2.06.94zm10 10l.94 2.06.94-2.06 2.06-.94-2.06-.94-.94-2.06-.94 2.06-2.06.94z\"/><path d=\"M17.41 7.96l-1.37-1.37c-.4-.4-.92-.59-1.43-.59-.52 0-1.04.2-1.43.59L10.3 9.45l-7.72 7.72c-.78.78-.78 2.05 0 2.83L4 21.41c.39.39.9.59 1.41.59.51 0 1.02-.2 1.41-.59l7.78-7.78 2.81-2.81c.8-.78.8-2.07 0-2.86zM5.41 20L4 18.59l7.72-7.72 1.47 1.35L5.41 20z\"/>\n",
              "  </svg>\n",
              "      </button>\n",
              "      \n",
              "  <style>\n",
              "    .colab-df-container {\n",
              "      display:flex;\n",
              "      flex-wrap:wrap;\n",
              "      gap: 12px;\n",
              "    }\n",
              "\n",
              "    .colab-df-convert {\n",
              "      background-color: #E8F0FE;\n",
              "      border: none;\n",
              "      border-radius: 50%;\n",
              "      cursor: pointer;\n",
              "      display: none;\n",
              "      fill: #1967D2;\n",
              "      height: 32px;\n",
              "      padding: 0 0 0 0;\n",
              "      width: 32px;\n",
              "    }\n",
              "\n",
              "    .colab-df-convert:hover {\n",
              "      background-color: #E2EBFA;\n",
              "      box-shadow: 0px 1px 2px rgba(60, 64, 67, 0.3), 0px 1px 3px 1px rgba(60, 64, 67, 0.15);\n",
              "      fill: #174EA6;\n",
              "    }\n",
              "\n",
              "    [theme=dark] .colab-df-convert {\n",
              "      background-color: #3B4455;\n",
              "      fill: #D2E3FC;\n",
              "    }\n",
              "\n",
              "    [theme=dark] .colab-df-convert:hover {\n",
              "      background-color: #434B5C;\n",
              "      box-shadow: 0px 1px 3px 1px rgba(0, 0, 0, 0.15);\n",
              "      filter: drop-shadow(0px 1px 2px rgba(0, 0, 0, 0.3));\n",
              "      fill: #FFFFFF;\n",
              "    }\n",
              "  </style>\n",
              "\n",
              "      <script>\n",
              "        const buttonEl =\n",
              "          document.querySelector('#df-cb97db49-f3d5-47ec-b2d4-f56a222421d0 button.colab-df-convert');\n",
              "        buttonEl.style.display =\n",
              "          google.colab.kernel.accessAllowed ? 'block' : 'none';\n",
              "\n",
              "        async function convertToInteractive(key) {\n",
              "          const element = document.querySelector('#df-cb97db49-f3d5-47ec-b2d4-f56a222421d0');\n",
              "          const dataTable =\n",
              "            await google.colab.kernel.invokeFunction('convertToInteractive',\n",
              "                                                     [key], {});\n",
              "          if (!dataTable) return;\n",
              "\n",
              "          const docLinkHtml = 'Like what you see? Visit the ' +\n",
              "            '<a target=\"_blank\" href=https://colab.research.google.com/notebooks/data_table.ipynb>data table notebook</a>'\n",
              "            + ' to learn more about interactive tables.';\n",
              "          element.innerHTML = '';\n",
              "          dataTable['output_type'] = 'display_data';\n",
              "          await google.colab.output.renderOutput(dataTable, element);\n",
              "          const docLink = document.createElement('div');\n",
              "          docLink.innerHTML = docLinkHtml;\n",
              "          element.appendChild(docLink);\n",
              "        }\n",
              "      </script>\n",
              "    </div>\n",
              "  </div>\n",
              "  "
            ]
          },
          "metadata": {},
          "execution_count": 5
        }
      ]
    },
    {
      "cell_type": "code",
      "source": [
        "data.shape"
      ],
      "metadata": {
        "colab": {
          "base_uri": "https://localhost:8080/"
        },
        "id": "Ml5JEKfclXEo",
        "outputId": "72280316-c054-4b25-c2a2-e4dfd7dcbea6"
      },
      "execution_count": 6,
      "outputs": [
        {
          "output_type": "execute_result",
          "data": {
            "text/plain": [
              "(7043, 38)"
            ]
          },
          "metadata": {},
          "execution_count": 6
        }
      ]
    },
    {
      "cell_type": "code",
      "source": [
        "data.isnull().sum()"
      ],
      "metadata": {
        "colab": {
          "base_uri": "https://localhost:8080/"
        },
        "id": "vH4ML5GMkUhN",
        "outputId": "13ead919-6f4f-4acc-d5d9-1b6948a5c483"
      },
      "execution_count": 7,
      "outputs": [
        {
          "output_type": "execute_result",
          "data": {
            "text/plain": [
              "Customer ID                             0\n",
              "Gender                                  0\n",
              "Age                                     0\n",
              "Married                                 0\n",
              "Number of Dependents                    0\n",
              "City                                    0\n",
              "Zip Code                                0\n",
              "Latitude                                0\n",
              "Longitude                               0\n",
              "Number of Referrals                     0\n",
              "Tenure in Months                        0\n",
              "Offer                                   0\n",
              "Phone Service                           0\n",
              "Avg Monthly Long Distance Charges     682\n",
              "Multiple Lines                        682\n",
              "Internet Service                        0\n",
              "Internet Type                        1526\n",
              "Avg Monthly GB Download              1526\n",
              "Online Security                      1526\n",
              "Online Backup                        1526\n",
              "Device Protection Plan               1526\n",
              "Premium Tech Support                 1526\n",
              "Streaming TV                         1526\n",
              "Streaming Movies                     1526\n",
              "Streaming Music                      1526\n",
              "Unlimited Data                       1526\n",
              "Contract                                0\n",
              "Paperless Billing                       0\n",
              "Payment Method                          0\n",
              "Monthly Charge                          0\n",
              "Total Charges                           0\n",
              "Total Refunds                           0\n",
              "Total Extra Data Charges                0\n",
              "Total Long Distance Charges             0\n",
              "Total Revenue                           0\n",
              "Customer Status                         0\n",
              "Churn Category                       5174\n",
              "Churn Reason                         5174\n",
              "dtype: int64"
            ]
          },
          "metadata": {},
          "execution_count": 7
        }
      ]
    },
    {
      "cell_type": "code",
      "source": [
        "data.info()"
      ],
      "metadata": {
        "colab": {
          "base_uri": "https://localhost:8080/"
        },
        "id": "8i1DOHkckPzz",
        "outputId": "7cb03e7e-505b-415a-d0ee-8e64ff0beea0"
      },
      "execution_count": 8,
      "outputs": [
        {
          "output_type": "stream",
          "name": "stdout",
          "text": [
            "<class 'pandas.core.frame.DataFrame'>\n",
            "RangeIndex: 7043 entries, 0 to 7042\n",
            "Data columns (total 38 columns):\n",
            " #   Column                             Non-Null Count  Dtype  \n",
            "---  ------                             --------------  -----  \n",
            " 0   Customer ID                        7043 non-null   object \n",
            " 1   Gender                             7043 non-null   object \n",
            " 2   Age                                7043 non-null   int64  \n",
            " 3   Married                            7043 non-null   object \n",
            " 4   Number of Dependents               7043 non-null   int64  \n",
            " 5   City                               7043 non-null   object \n",
            " 6   Zip Code                           7043 non-null   int64  \n",
            " 7   Latitude                           7043 non-null   float64\n",
            " 8   Longitude                          7043 non-null   float64\n",
            " 9   Number of Referrals                7043 non-null   int64  \n",
            " 10  Tenure in Months                   7043 non-null   int64  \n",
            " 11  Offer                              7043 non-null   object \n",
            " 12  Phone Service                      7043 non-null   object \n",
            " 13  Avg Monthly Long Distance Charges  6361 non-null   float64\n",
            " 14  Multiple Lines                     6361 non-null   object \n",
            " 15  Internet Service                   7043 non-null   object \n",
            " 16  Internet Type                      5517 non-null   object \n",
            " 17  Avg Monthly GB Download            5517 non-null   float64\n",
            " 18  Online Security                    5517 non-null   object \n",
            " 19  Online Backup                      5517 non-null   object \n",
            " 20  Device Protection Plan             5517 non-null   object \n",
            " 21  Premium Tech Support               5517 non-null   object \n",
            " 22  Streaming TV                       5517 non-null   object \n",
            " 23  Streaming Movies                   5517 non-null   object \n",
            " 24  Streaming Music                    5517 non-null   object \n",
            " 25  Unlimited Data                     5517 non-null   object \n",
            " 26  Contract                           7043 non-null   object \n",
            " 27  Paperless Billing                  7043 non-null   object \n",
            " 28  Payment Method                     7043 non-null   object \n",
            " 29  Monthly Charge                     7043 non-null   float64\n",
            " 30  Total Charges                      7043 non-null   float64\n",
            " 31  Total Refunds                      7043 non-null   float64\n",
            " 32  Total Extra Data Charges           7043 non-null   int64  \n",
            " 33  Total Long Distance Charges        7043 non-null   float64\n",
            " 34  Total Revenue                      7043 non-null   float64\n",
            " 35  Customer Status                    7043 non-null   object \n",
            " 36  Churn Category                     1869 non-null   object \n",
            " 37  Churn Reason                       1869 non-null   object \n",
            "dtypes: float64(9), int64(6), object(23)\n",
            "memory usage: 2.0+ MB\n"
          ]
        }
      ]
    },
    {
      "cell_type": "code",
      "source": [
        "data['Tenure in Months'].value_counts()"
      ],
      "metadata": {
        "colab": {
          "base_uri": "https://localhost:8080/"
        },
        "id": "QAkzsZ1dkp9m",
        "outputId": "3926a908-f4bc-4f90-8c3a-fd0067aa0e34"
      },
      "execution_count": 9,
      "outputs": [
        {
          "output_type": "execute_result",
          "data": {
            "text/plain": [
              "1     613\n",
              "72    362\n",
              "2     238\n",
              "3     200\n",
              "4     176\n",
              "     ... \n",
              "38     59\n",
              "28     57\n",
              "39     56\n",
              "44     51\n",
              "36     50\n",
              "Name: Tenure in Months, Length: 72, dtype: int64"
            ]
          },
          "metadata": {},
          "execution_count": 9
        }
      ]
    },
    {
      "cell_type": "code",
      "source": [
        "np.mean(data['Tenure in Months'])"
      ],
      "metadata": {
        "colab": {
          "base_uri": "https://localhost:8080/"
        },
        "id": "y9xaIyDvQ-7Q",
        "outputId": "a9ad56e7-e709-46f9-e1bf-8055ffe0af99"
      },
      "execution_count": 10,
      "outputs": [
        {
          "output_type": "execute_result",
          "data": {
            "text/plain": [
              "32.38676700269772"
            ]
          },
          "metadata": {},
          "execution_count": 10
        }
      ]
    },
    {
      "cell_type": "code",
      "source": [
        "data['Customer Status'].value_counts()"
      ],
      "metadata": {
        "colab": {
          "base_uri": "https://localhost:8080/"
        },
        "id": "FCafh_hxlrkC",
        "outputId": "605778e4-6831-4bf3-a774-fdd3fff61d4d"
      },
      "execution_count": 11,
      "outputs": [
        {
          "output_type": "execute_result",
          "data": {
            "text/plain": [
              "Stayed     4720\n",
              "Churned    1869\n",
              "Joined      454\n",
              "Name: Customer Status, dtype: int64"
            ]
          },
          "metadata": {},
          "execution_count": 11
        }
      ]
    },
    {
      "cell_type": "markdown",
      "source": [
        "### As we can see, most of our customers decided to stay. Moreover, on average, our customers decide to stay with us for a little less than three years."
      ],
      "metadata": {
        "id": "9XFANV0oQ2c-"
      }
    },
    {
      "cell_type": "code",
      "source": [
        "data['Churn Category'].value_counts()"
      ],
      "metadata": {
        "colab": {
          "base_uri": "https://localhost:8080/"
        },
        "id": "ZB_TTngjmMbJ",
        "outputId": "50b5177e-9918-4648-f180-33fe34cbf53c"
      },
      "execution_count": 12,
      "outputs": [
        {
          "output_type": "execute_result",
          "data": {
            "text/plain": [
              "Competitor         841\n",
              "Dissatisfaction    321\n",
              "Attitude           314\n",
              "Price              211\n",
              "Other              182\n",
              "Name: Churn Category, dtype: int64"
            ]
          },
          "metadata": {},
          "execution_count": 12
        }
      ]
    },
    {
      "cell_type": "code",
      "source": [
        "data['Married'].value_counts()"
      ],
      "metadata": {
        "colab": {
          "base_uri": "https://localhost:8080/"
        },
        "id": "w6kRBE_xmUB-",
        "outputId": "7d748ba7-1e52-48be-c429-885ddf0ebce8"
      },
      "execution_count": 13,
      "outputs": [
        {
          "output_type": "execute_result",
          "data": {
            "text/plain": [
              "No     3641\n",
              "Yes    3402\n",
              "Name: Married, dtype: int64"
            ]
          },
          "metadata": {},
          "execution_count": 13
        }
      ]
    },
    {
      "cell_type": "code",
      "source": [
        "data['Gender'].value_counts()"
      ],
      "metadata": {
        "colab": {
          "base_uri": "https://localhost:8080/"
        },
        "id": "_Ne-zRfqsab_",
        "outputId": "584720ca-eadc-4101-e746-dfa5c5470645"
      },
      "execution_count": 14,
      "outputs": [
        {
          "output_type": "execute_result",
          "data": {
            "text/plain": [
              "Male      3555\n",
              "Female    3488\n",
              "Name: Gender, dtype: int64"
            ]
          },
          "metadata": {},
          "execution_count": 14
        }
      ]
    },
    {
      "cell_type": "code",
      "source": [
        "data['Monthly Charge'].value_counts()"
      ],
      "metadata": {
        "colab": {
          "base_uri": "https://localhost:8080/"
        },
        "id": "FQPIhvIQmaTf",
        "outputId": "690d632b-1326-41f1-c961-8c788f39606e"
      },
      "execution_count": 15,
      "outputs": [
        {
          "output_type": "execute_result",
          "data": {
            "text/plain": [
              "20.05    60\n",
              "19.85    45\n",
              "19.95    44\n",
              "19.90    44\n",
              "20.00    43\n",
              "         ..\n",
              "43.65     1\n",
              "34.55     1\n",
              "47.60     1\n",
              "58.70     1\n",
              "67.85     1\n",
              "Name: Monthly Charge, Length: 1591, dtype: int64"
            ]
          },
          "metadata": {},
          "execution_count": 15
        }
      ]
    },
    {
      "cell_type": "code",
      "source": [
        "data['Monthly Charge'].max()"
      ],
      "metadata": {
        "colab": {
          "base_uri": "https://localhost:8080/"
        },
        "id": "QpHvfF_FsDg_",
        "outputId": "6371526c-e683-4916-9d6b-fdda35e0dae0"
      },
      "execution_count": 16,
      "outputs": [
        {
          "output_type": "execute_result",
          "data": {
            "text/plain": [
              "118.75"
            ]
          },
          "metadata": {},
          "execution_count": 16
        }
      ]
    },
    {
      "cell_type": "code",
      "source": [
        "data['Internet Service'].value_counts()"
      ],
      "metadata": {
        "colab": {
          "base_uri": "https://localhost:8080/"
        },
        "id": "yH5SeRzhtbzZ",
        "outputId": "61f2f30a-4e7d-4f5c-b345-4e90a7d24f08"
      },
      "execution_count": 17,
      "outputs": [
        {
          "output_type": "execute_result",
          "data": {
            "text/plain": [
              "Yes    5517\n",
              "No     1526\n",
              "Name: Internet Service, dtype: int64"
            ]
          },
          "metadata": {},
          "execution_count": 17
        }
      ]
    },
    {
      "cell_type": "code",
      "source": [
        "data['Phone Service'].value_counts()"
      ],
      "metadata": {
        "colab": {
          "base_uri": "https://localhost:8080/"
        },
        "id": "xXBssyP2zlZX",
        "outputId": "8a94bd47-cf73-4331-a4bb-188f42876679"
      },
      "execution_count": 18,
      "outputs": [
        {
          "output_type": "execute_result",
          "data": {
            "text/plain": [
              "Yes    6361\n",
              "No      682\n",
              "Name: Phone Service, dtype: int64"
            ]
          },
          "metadata": {},
          "execution_count": 18
        }
      ]
    },
    {
      "cell_type": "code",
      "source": [
        "data['Churn Category']"
      ],
      "metadata": {
        "colab": {
          "base_uri": "https://localhost:8080/"
        },
        "id": "BQjRERaDxWs_",
        "outputId": "4b6a6d29-43c6-4874-f3a2-888a201d7dbf"
      },
      "execution_count": 19,
      "outputs": [
        {
          "output_type": "execute_result",
          "data": {
            "text/plain": [
              "0                   NaN\n",
              "1                   NaN\n",
              "2            Competitor\n",
              "3       Dissatisfaction\n",
              "4       Dissatisfaction\n",
              "             ...       \n",
              "7038                NaN\n",
              "7039    Dissatisfaction\n",
              "7040                NaN\n",
              "7041                NaN\n",
              "7042                NaN\n",
              "Name: Churn Category, Length: 7043, dtype: object"
            ]
          },
          "metadata": {},
          "execution_count": 19
        }
      ]
    },
    {
      "cell_type": "code",
      "source": [
        "data['Contract'].value_counts()"
      ],
      "metadata": {
        "colab": {
          "base_uri": "https://localhost:8080/"
        },
        "id": "NECXte8XwaGt",
        "outputId": "2ca6db8d-c335-416d-8675-5be0ea1dea7a"
      },
      "execution_count": 20,
      "outputs": [
        {
          "output_type": "execute_result",
          "data": {
            "text/plain": [
              "Month-to-Month    3610\n",
              "Two Year          1883\n",
              "One Year          1550\n",
              "Name: Contract, dtype: int64"
            ]
          },
          "metadata": {},
          "execution_count": 20
        }
      ]
    },
    {
      "cell_type": "code",
      "source": [
        "data['Offer'].value_counts()"
      ],
      "metadata": {
        "colab": {
          "base_uri": "https://localhost:8080/"
        },
        "id": "mkooPqiHyLtc",
        "outputId": "b6132be6-d17b-4ed7-b91d-f7e367e008a4"
      },
      "execution_count": 21,
      "outputs": [
        {
          "output_type": "execute_result",
          "data": {
            "text/plain": [
              "None       3877\n",
              "Offer B     824\n",
              "Offer E     805\n",
              "Offer D     602\n",
              "Offer A     520\n",
              "Offer C     415\n",
              "Name: Offer, dtype: int64"
            ]
          },
          "metadata": {},
          "execution_count": 21
        }
      ]
    },
    {
      "cell_type": "code",
      "source": [
        "data['Total Extra Data Charges'].value_counts()"
      ],
      "metadata": {
        "colab": {
          "base_uri": "https://localhost:8080/"
        },
        "id": "Tinf3BCqzMgz",
        "outputId": "38a3f44b-5692-4abc-f8ea-b87635fa28f5"
      },
      "execution_count": 22,
      "outputs": [
        {
          "output_type": "execute_result",
          "data": {
            "text/plain": [
              "0      6315\n",
              "10      138\n",
              "40       62\n",
              "30       58\n",
              "20       51\n",
              "80       47\n",
              "100      44\n",
              "50       43\n",
              "150      42\n",
              "130      40\n",
              "140      38\n",
              "60       36\n",
              "90       35\n",
              "70       34\n",
              "110      32\n",
              "120      28\n",
              "Name: Total Extra Data Charges, dtype: int64"
            ]
          },
          "metadata": {},
          "execution_count": 22
        }
      ]
    },
    {
      "cell_type": "code",
      "source": [
        "data['Total Long Distance Charges'].value_counts()"
      ],
      "metadata": {
        "colab": {
          "base_uri": "https://localhost:8080/"
        },
        "id": "p7XitTnWzRPh",
        "outputId": "2b337738-7a3c-4402-a2f6-2b3257c192c3"
      },
      "execution_count": 23,
      "outputs": [
        {
          "output_type": "execute_result",
          "data": {
            "text/plain": [
              "0.00       682\n",
              "15.60        4\n",
              "48.96        4\n",
              "22.86        4\n",
              "597.60       3\n",
              "          ... \n",
              "200.75       1\n",
              "217.62       1\n",
              "2288.43      1\n",
              "1417.68      1\n",
              "142.04       1\n",
              "Name: Total Long Distance Charges, Length: 6068, dtype: int64"
            ]
          },
          "metadata": {},
          "execution_count": 23
        }
      ]
    },
    {
      "cell_type": "markdown",
      "source": [
        "### first step in Data cleaning: dropping irrelevant columns before further analysis"
      ],
      "metadata": {
        "id": "vLc8aSzGRLkb"
      }
    },
    {
      "cell_type": "code",
      "source": [
        "data_1 = data.drop(['Customer ID','Number of Dependents','Zip Code', 'Latitude',\n",
        "                    'Longitude','Online Security','Online Backup',\n",
        "                    'Paperless Billing', 'Payment Method','Contract',\n",
        "                    'Total Extra Data Charges', 'Total Long Distance Charges',\n",
        "                    'Internet Type',\n",
        "                    'Total Long Distance Charges', 'Churn Category',\n",
        "                    'Churn Reason'], axis=1).copy()"
      ],
      "metadata": {
        "id": "6uYZDh9NtHxm"
      },
      "execution_count": 24,
      "outputs": []
    },
    {
      "cell_type": "code",
      "source": [
        "data_1.head()"
      ],
      "metadata": {
        "colab": {
          "base_uri": "https://localhost:8080/",
          "height": 279
        },
        "id": "SPziZ5VSxjEg",
        "outputId": "cec93fb6-14ab-4f14-8852-6450884ef423"
      },
      "execution_count": 25,
      "outputs": [
        {
          "output_type": "execute_result",
          "data": {
            "text/plain": [
              "   Gender  Age Married          City  Number of Referrals  Tenure in Months  \\\n",
              "0  Female   37     Yes  Frazier Park                    2                 9   \n",
              "1    Male   46      No      Glendale                    0                 9   \n",
              "2    Male   50      No    Costa Mesa                    0                 4   \n",
              "3    Male   78     Yes      Martinez                    1                13   \n",
              "4  Female   75     Yes     Camarillo                    3                 3   \n",
              "\n",
              "     Offer Phone Service  Avg Monthly Long Distance Charges Multiple Lines  \\\n",
              "0     None           Yes                              42.39             No   \n",
              "1     None           Yes                              10.69            Yes   \n",
              "2  Offer E           Yes                              33.65             No   \n",
              "3  Offer D           Yes                              27.82             No   \n",
              "4     None           Yes                               7.38             No   \n",
              "\n",
              "   ... Premium Tech Support  Streaming TV Streaming Movies Streaming Music  \\\n",
              "0  ...                  Yes           Yes               No              No   \n",
              "1  ...                   No            No              Yes             Yes   \n",
              "2  ...                   No            No               No              No   \n",
              "3  ...                   No           Yes              Yes              No   \n",
              "4  ...                  Yes           Yes               No              No   \n",
              "\n",
              "  Unlimited Data Monthly Charge Total Charges Total Refunds  Total Revenue  \\\n",
              "0            Yes           65.6        593.30          0.00         974.81   \n",
              "1             No           -4.0        542.40         38.33         610.28   \n",
              "2            Yes           73.9        280.85          0.00         415.45   \n",
              "3            Yes           98.0       1237.85          0.00        1599.51   \n",
              "4            Yes           83.9        267.40          0.00         289.54   \n",
              "\n",
              "   Customer Status  \n",
              "0           Stayed  \n",
              "1           Stayed  \n",
              "2          Churned  \n",
              "3          Churned  \n",
              "4          Churned  \n",
              "\n",
              "[5 rows x 23 columns]"
            ],
            "text/html": [
              "\n",
              "  <div id=\"df-50ca3280-66b9-449a-9855-7add6ba238d3\">\n",
              "    <div class=\"colab-df-container\">\n",
              "      <div>\n",
              "<style scoped>\n",
              "    .dataframe tbody tr th:only-of-type {\n",
              "        vertical-align: middle;\n",
              "    }\n",
              "\n",
              "    .dataframe tbody tr th {\n",
              "        vertical-align: top;\n",
              "    }\n",
              "\n",
              "    .dataframe thead th {\n",
              "        text-align: right;\n",
              "    }\n",
              "</style>\n",
              "<table border=\"1\" class=\"dataframe\">\n",
              "  <thead>\n",
              "    <tr style=\"text-align: right;\">\n",
              "      <th></th>\n",
              "      <th>Gender</th>\n",
              "      <th>Age</th>\n",
              "      <th>Married</th>\n",
              "      <th>City</th>\n",
              "      <th>Number of Referrals</th>\n",
              "      <th>Tenure in Months</th>\n",
              "      <th>Offer</th>\n",
              "      <th>Phone Service</th>\n",
              "      <th>Avg Monthly Long Distance Charges</th>\n",
              "      <th>Multiple Lines</th>\n",
              "      <th>...</th>\n",
              "      <th>Premium Tech Support</th>\n",
              "      <th>Streaming TV</th>\n",
              "      <th>Streaming Movies</th>\n",
              "      <th>Streaming Music</th>\n",
              "      <th>Unlimited Data</th>\n",
              "      <th>Monthly Charge</th>\n",
              "      <th>Total Charges</th>\n",
              "      <th>Total Refunds</th>\n",
              "      <th>Total Revenue</th>\n",
              "      <th>Customer Status</th>\n",
              "    </tr>\n",
              "  </thead>\n",
              "  <tbody>\n",
              "    <tr>\n",
              "      <th>0</th>\n",
              "      <td>Female</td>\n",
              "      <td>37</td>\n",
              "      <td>Yes</td>\n",
              "      <td>Frazier Park</td>\n",
              "      <td>2</td>\n",
              "      <td>9</td>\n",
              "      <td>None</td>\n",
              "      <td>Yes</td>\n",
              "      <td>42.39</td>\n",
              "      <td>No</td>\n",
              "      <td>...</td>\n",
              "      <td>Yes</td>\n",
              "      <td>Yes</td>\n",
              "      <td>No</td>\n",
              "      <td>No</td>\n",
              "      <td>Yes</td>\n",
              "      <td>65.6</td>\n",
              "      <td>593.30</td>\n",
              "      <td>0.00</td>\n",
              "      <td>974.81</td>\n",
              "      <td>Stayed</td>\n",
              "    </tr>\n",
              "    <tr>\n",
              "      <th>1</th>\n",
              "      <td>Male</td>\n",
              "      <td>46</td>\n",
              "      <td>No</td>\n",
              "      <td>Glendale</td>\n",
              "      <td>0</td>\n",
              "      <td>9</td>\n",
              "      <td>None</td>\n",
              "      <td>Yes</td>\n",
              "      <td>10.69</td>\n",
              "      <td>Yes</td>\n",
              "      <td>...</td>\n",
              "      <td>No</td>\n",
              "      <td>No</td>\n",
              "      <td>Yes</td>\n",
              "      <td>Yes</td>\n",
              "      <td>No</td>\n",
              "      <td>-4.0</td>\n",
              "      <td>542.40</td>\n",
              "      <td>38.33</td>\n",
              "      <td>610.28</td>\n",
              "      <td>Stayed</td>\n",
              "    </tr>\n",
              "    <tr>\n",
              "      <th>2</th>\n",
              "      <td>Male</td>\n",
              "      <td>50</td>\n",
              "      <td>No</td>\n",
              "      <td>Costa Mesa</td>\n",
              "      <td>0</td>\n",
              "      <td>4</td>\n",
              "      <td>Offer E</td>\n",
              "      <td>Yes</td>\n",
              "      <td>33.65</td>\n",
              "      <td>No</td>\n",
              "      <td>...</td>\n",
              "      <td>No</td>\n",
              "      <td>No</td>\n",
              "      <td>No</td>\n",
              "      <td>No</td>\n",
              "      <td>Yes</td>\n",
              "      <td>73.9</td>\n",
              "      <td>280.85</td>\n",
              "      <td>0.00</td>\n",
              "      <td>415.45</td>\n",
              "      <td>Churned</td>\n",
              "    </tr>\n",
              "    <tr>\n",
              "      <th>3</th>\n",
              "      <td>Male</td>\n",
              "      <td>78</td>\n",
              "      <td>Yes</td>\n",
              "      <td>Martinez</td>\n",
              "      <td>1</td>\n",
              "      <td>13</td>\n",
              "      <td>Offer D</td>\n",
              "      <td>Yes</td>\n",
              "      <td>27.82</td>\n",
              "      <td>No</td>\n",
              "      <td>...</td>\n",
              "      <td>No</td>\n",
              "      <td>Yes</td>\n",
              "      <td>Yes</td>\n",
              "      <td>No</td>\n",
              "      <td>Yes</td>\n",
              "      <td>98.0</td>\n",
              "      <td>1237.85</td>\n",
              "      <td>0.00</td>\n",
              "      <td>1599.51</td>\n",
              "      <td>Churned</td>\n",
              "    </tr>\n",
              "    <tr>\n",
              "      <th>4</th>\n",
              "      <td>Female</td>\n",
              "      <td>75</td>\n",
              "      <td>Yes</td>\n",
              "      <td>Camarillo</td>\n",
              "      <td>3</td>\n",
              "      <td>3</td>\n",
              "      <td>None</td>\n",
              "      <td>Yes</td>\n",
              "      <td>7.38</td>\n",
              "      <td>No</td>\n",
              "      <td>...</td>\n",
              "      <td>Yes</td>\n",
              "      <td>Yes</td>\n",
              "      <td>No</td>\n",
              "      <td>No</td>\n",
              "      <td>Yes</td>\n",
              "      <td>83.9</td>\n",
              "      <td>267.40</td>\n",
              "      <td>0.00</td>\n",
              "      <td>289.54</td>\n",
              "      <td>Churned</td>\n",
              "    </tr>\n",
              "  </tbody>\n",
              "</table>\n",
              "<p>5 rows × 23 columns</p>\n",
              "</div>\n",
              "      <button class=\"colab-df-convert\" onclick=\"convertToInteractive('df-50ca3280-66b9-449a-9855-7add6ba238d3')\"\n",
              "              title=\"Convert this dataframe to an interactive table.\"\n",
              "              style=\"display:none;\">\n",
              "        \n",
              "  <svg xmlns=\"http://www.w3.org/2000/svg\" height=\"24px\"viewBox=\"0 0 24 24\"\n",
              "       width=\"24px\">\n",
              "    <path d=\"M0 0h24v24H0V0z\" fill=\"none\"/>\n",
              "    <path d=\"M18.56 5.44l.94 2.06.94-2.06 2.06-.94-2.06-.94-.94-2.06-.94 2.06-2.06.94zm-11 1L8.5 8.5l.94-2.06 2.06-.94-2.06-.94L8.5 2.5l-.94 2.06-2.06.94zm10 10l.94 2.06.94-2.06 2.06-.94-2.06-.94-.94-2.06-.94 2.06-2.06.94z\"/><path d=\"M17.41 7.96l-1.37-1.37c-.4-.4-.92-.59-1.43-.59-.52 0-1.04.2-1.43.59L10.3 9.45l-7.72 7.72c-.78.78-.78 2.05 0 2.83L4 21.41c.39.39.9.59 1.41.59.51 0 1.02-.2 1.41-.59l7.78-7.78 2.81-2.81c.8-.78.8-2.07 0-2.86zM5.41 20L4 18.59l7.72-7.72 1.47 1.35L5.41 20z\"/>\n",
              "  </svg>\n",
              "      </button>\n",
              "      \n",
              "  <style>\n",
              "    .colab-df-container {\n",
              "      display:flex;\n",
              "      flex-wrap:wrap;\n",
              "      gap: 12px;\n",
              "    }\n",
              "\n",
              "    .colab-df-convert {\n",
              "      background-color: #E8F0FE;\n",
              "      border: none;\n",
              "      border-radius: 50%;\n",
              "      cursor: pointer;\n",
              "      display: none;\n",
              "      fill: #1967D2;\n",
              "      height: 32px;\n",
              "      padding: 0 0 0 0;\n",
              "      width: 32px;\n",
              "    }\n",
              "\n",
              "    .colab-df-convert:hover {\n",
              "      background-color: #E2EBFA;\n",
              "      box-shadow: 0px 1px 2px rgba(60, 64, 67, 0.3), 0px 1px 3px 1px rgba(60, 64, 67, 0.15);\n",
              "      fill: #174EA6;\n",
              "    }\n",
              "\n",
              "    [theme=dark] .colab-df-convert {\n",
              "      background-color: #3B4455;\n",
              "      fill: #D2E3FC;\n",
              "    }\n",
              "\n",
              "    [theme=dark] .colab-df-convert:hover {\n",
              "      background-color: #434B5C;\n",
              "      box-shadow: 0px 1px 3px 1px rgba(0, 0, 0, 0.15);\n",
              "      filter: drop-shadow(0px 1px 2px rgba(0, 0, 0, 0.3));\n",
              "      fill: #FFFFFF;\n",
              "    }\n",
              "  </style>\n",
              "\n",
              "      <script>\n",
              "        const buttonEl =\n",
              "          document.querySelector('#df-50ca3280-66b9-449a-9855-7add6ba238d3 button.colab-df-convert');\n",
              "        buttonEl.style.display =\n",
              "          google.colab.kernel.accessAllowed ? 'block' : 'none';\n",
              "\n",
              "        async function convertToInteractive(key) {\n",
              "          const element = document.querySelector('#df-50ca3280-66b9-449a-9855-7add6ba238d3');\n",
              "          const dataTable =\n",
              "            await google.colab.kernel.invokeFunction('convertToInteractive',\n",
              "                                                     [key], {});\n",
              "          if (!dataTable) return;\n",
              "\n",
              "          const docLinkHtml = 'Like what you see? Visit the ' +\n",
              "            '<a target=\"_blank\" href=https://colab.research.google.com/notebooks/data_table.ipynb>data table notebook</a>'\n",
              "            + ' to learn more about interactive tables.';\n",
              "          element.innerHTML = '';\n",
              "          dataTable['output_type'] = 'display_data';\n",
              "          await google.colab.output.renderOutput(dataTable, element);\n",
              "          const docLink = document.createElement('div');\n",
              "          docLink.innerHTML = docLinkHtml;\n",
              "          element.appendChild(docLink);\n",
              "        }\n",
              "      </script>\n",
              "    </div>\n",
              "  </div>\n",
              "  "
            ]
          },
          "metadata": {},
          "execution_count": 25
        }
      ]
    },
    {
      "cell_type": "code",
      "source": [
        "data_1.shape"
      ],
      "metadata": {
        "colab": {
          "base_uri": "https://localhost:8080/"
        },
        "id": "XyH2MkWnxnn-",
        "outputId": "6bb777b2-6795-481e-d15d-c1553a8fcce7"
      },
      "execution_count": 26,
      "outputs": [
        {
          "output_type": "execute_result",
          "data": {
            "text/plain": [
              "(7043, 23)"
            ]
          },
          "metadata": {},
          "execution_count": 26
        }
      ]
    },
    {
      "cell_type": "code",
      "source": [
        "data_1.columns"
      ],
      "metadata": {
        "colab": {
          "base_uri": "https://localhost:8080/"
        },
        "id": "z4UkNLqIyCGd",
        "outputId": "afc1893d-11e0-406d-99f1-940187843de3"
      },
      "execution_count": 27,
      "outputs": [
        {
          "output_type": "execute_result",
          "data": {
            "text/plain": [
              "Index(['Gender', 'Age', 'Married', 'City', 'Number of Referrals',\n",
              "       'Tenure in Months', 'Offer', 'Phone Service',\n",
              "       'Avg Monthly Long Distance Charges', 'Multiple Lines',\n",
              "       'Internet Service', 'Avg Monthly GB Download', 'Device Protection Plan',\n",
              "       'Premium Tech Support', 'Streaming TV', 'Streaming Movies',\n",
              "       'Streaming Music', 'Unlimited Data', 'Monthly Charge', 'Total Charges',\n",
              "       'Total Refunds', 'Total Revenue', 'Customer Status'],\n",
              "      dtype='object')"
            ]
          },
          "metadata": {},
          "execution_count": 27
        }
      ]
    },
    {
      "cell_type": "markdown",
      "source": [
        "### Fixing data types and dropping Nas"
      ],
      "metadata": {
        "id": "hNwxR3yg0rNN"
      }
    },
    {
      "cell_type": "code",
      "source": [
        "data_1.info()"
      ],
      "metadata": {
        "colab": {
          "base_uri": "https://localhost:8080/"
        },
        "id": "1mG46taT0X3J",
        "outputId": "8d8cc33f-eba1-4cd9-cdba-1becbd432e4e"
      },
      "execution_count": 28,
      "outputs": [
        {
          "output_type": "stream",
          "name": "stdout",
          "text": [
            "<class 'pandas.core.frame.DataFrame'>\n",
            "RangeIndex: 7043 entries, 0 to 7042\n",
            "Data columns (total 23 columns):\n",
            " #   Column                             Non-Null Count  Dtype  \n",
            "---  ------                             --------------  -----  \n",
            " 0   Gender                             7043 non-null   object \n",
            " 1   Age                                7043 non-null   int64  \n",
            " 2   Married                            7043 non-null   object \n",
            " 3   City                               7043 non-null   object \n",
            " 4   Number of Referrals                7043 non-null   int64  \n",
            " 5   Tenure in Months                   7043 non-null   int64  \n",
            " 6   Offer                              7043 non-null   object \n",
            " 7   Phone Service                      7043 non-null   object \n",
            " 8   Avg Monthly Long Distance Charges  6361 non-null   float64\n",
            " 9   Multiple Lines                     6361 non-null   object \n",
            " 10  Internet Service                   7043 non-null   object \n",
            " 11  Avg Monthly GB Download            5517 non-null   float64\n",
            " 12  Device Protection Plan             5517 non-null   object \n",
            " 13  Premium Tech Support               5517 non-null   object \n",
            " 14  Streaming TV                       5517 non-null   object \n",
            " 15  Streaming Movies                   5517 non-null   object \n",
            " 16  Streaming Music                    5517 non-null   object \n",
            " 17  Unlimited Data                     5517 non-null   object \n",
            " 18  Monthly Charge                     7043 non-null   float64\n",
            " 19  Total Charges                      7043 non-null   float64\n",
            " 20  Total Refunds                      7043 non-null   float64\n",
            " 21  Total Revenue                      7043 non-null   float64\n",
            " 22  Customer Status                    7043 non-null   object \n",
            "dtypes: float64(6), int64(3), object(14)\n",
            "memory usage: 1.2+ MB\n"
          ]
        }
      ]
    },
    {
      "cell_type": "code",
      "source": [
        "for column in data_1.columns:\n",
        "  print(column, data_1[column].isnull().sum())\n"
      ],
      "metadata": {
        "colab": {
          "base_uri": "https://localhost:8080/"
        },
        "id": "bPZQI3Hp07xL",
        "outputId": "9a4bc2dc-6182-443d-fe44-533a944fc892"
      },
      "execution_count": 29,
      "outputs": [
        {
          "output_type": "stream",
          "name": "stdout",
          "text": [
            "Gender 0\n",
            "Age 0\n",
            "Married 0\n",
            "City 0\n",
            "Number of Referrals 0\n",
            "Tenure in Months 0\n",
            "Offer 0\n",
            "Phone Service 0\n",
            "Avg Monthly Long Distance Charges 682\n",
            "Multiple Lines 682\n",
            "Internet Service 0\n",
            "Avg Monthly GB Download 1526\n",
            "Device Protection Plan 1526\n",
            "Premium Tech Support 1526\n",
            "Streaming TV 1526\n",
            "Streaming Movies 1526\n",
            "Streaming Music 1526\n",
            "Unlimited Data 1526\n",
            "Monthly Charge 0\n",
            "Total Charges 0\n",
            "Total Refunds 0\n",
            "Total Revenue 0\n",
            "Customer Status 0\n"
          ]
        }
      ]
    },
    {
      "cell_type": "code",
      "source": [
        "data_2 = data_1.dropna().copy()"
      ],
      "metadata": {
        "id": "mYA3T0a2zs_b"
      },
      "execution_count": 30,
      "outputs": []
    },
    {
      "cell_type": "code",
      "source": [
        "data_2.shape"
      ],
      "metadata": {
        "colab": {
          "base_uri": "https://localhost:8080/"
        },
        "id": "oro0A_jf1sAy",
        "outputId": "843cfb37-b5b8-4dd5-9c22-b2e25f73c20c"
      },
      "execution_count": 31,
      "outputs": [
        {
          "output_type": "execute_result",
          "data": {
            "text/plain": [
              "(4835, 23)"
            ]
          },
          "metadata": {},
          "execution_count": 31
        }
      ]
    },
    {
      "cell_type": "code",
      "source": [
        "for column in data_2.columns:\n",
        "  print(column, data_2[column].isnull().sum())"
      ],
      "metadata": {
        "colab": {
          "base_uri": "https://localhost:8080/"
        },
        "id": "Lj-LDjQc1-b-",
        "outputId": "c92f589b-f3ad-4193-b4c2-92014b8b4f8d"
      },
      "execution_count": 32,
      "outputs": [
        {
          "output_type": "stream",
          "name": "stdout",
          "text": [
            "Gender 0\n",
            "Age 0\n",
            "Married 0\n",
            "City 0\n",
            "Number of Referrals 0\n",
            "Tenure in Months 0\n",
            "Offer 0\n",
            "Phone Service 0\n",
            "Avg Monthly Long Distance Charges 0\n",
            "Multiple Lines 0\n",
            "Internet Service 0\n",
            "Avg Monthly GB Download 0\n",
            "Device Protection Plan 0\n",
            "Premium Tech Support 0\n",
            "Streaming TV 0\n",
            "Streaming Movies 0\n",
            "Streaming Music 0\n",
            "Unlimited Data 0\n",
            "Monthly Charge 0\n",
            "Total Charges 0\n",
            "Total Refunds 0\n",
            "Total Revenue 0\n",
            "Customer Status 0\n"
          ]
        }
      ]
    },
    {
      "cell_type": "code",
      "source": [
        "data_2.info()"
      ],
      "metadata": {
        "colab": {
          "base_uri": "https://localhost:8080/"
        },
        "id": "QLDb9SFq4EdB",
        "outputId": "977845a0-b0c0-4e9d-c38e-271ea47dd386"
      },
      "execution_count": 33,
      "outputs": [
        {
          "output_type": "stream",
          "name": "stdout",
          "text": [
            "<class 'pandas.core.frame.DataFrame'>\n",
            "Int64Index: 4835 entries, 0 to 7041\n",
            "Data columns (total 23 columns):\n",
            " #   Column                             Non-Null Count  Dtype  \n",
            "---  ------                             --------------  -----  \n",
            " 0   Gender                             4835 non-null   object \n",
            " 1   Age                                4835 non-null   int64  \n",
            " 2   Married                            4835 non-null   object \n",
            " 3   City                               4835 non-null   object \n",
            " 4   Number of Referrals                4835 non-null   int64  \n",
            " 5   Tenure in Months                   4835 non-null   int64  \n",
            " 6   Offer                              4835 non-null   object \n",
            " 7   Phone Service                      4835 non-null   object \n",
            " 8   Avg Monthly Long Distance Charges  4835 non-null   float64\n",
            " 9   Multiple Lines                     4835 non-null   object \n",
            " 10  Internet Service                   4835 non-null   object \n",
            " 11  Avg Monthly GB Download            4835 non-null   float64\n",
            " 12  Device Protection Plan             4835 non-null   object \n",
            " 13  Premium Tech Support               4835 non-null   object \n",
            " 14  Streaming TV                       4835 non-null   object \n",
            " 15  Streaming Movies                   4835 non-null   object \n",
            " 16  Streaming Music                    4835 non-null   object \n",
            " 17  Unlimited Data                     4835 non-null   object \n",
            " 18  Monthly Charge                     4835 non-null   float64\n",
            " 19  Total Charges                      4835 non-null   float64\n",
            " 20  Total Refunds                      4835 non-null   float64\n",
            " 21  Total Revenue                      4835 non-null   float64\n",
            " 22  Customer Status                    4835 non-null   object \n",
            "dtypes: float64(6), int64(3), object(14)\n",
            "memory usage: 906.6+ KB\n"
          ]
        }
      ]
    },
    {
      "cell_type": "code",
      "source": [
        "Yes_No_mapper = {'Yes':1, 'No':0}\n",
        "value_mapper = {'None':0, 'Offer A':1, 'Offer B':2, 'Offer C':3, 'Offer D':4, 'Offer E':5}"
      ],
      "metadata": {
        "id": "b8bjBRC_4KaV"
      },
      "execution_count": 34,
      "outputs": []
    },
    {
      "cell_type": "markdown",
      "source": [
        "### In order for our model to properly work, we need all of the features to be numerical in nature, instead of having a string or object."
      ],
      "metadata": {
        "id": "FN7I3dj3RY7Y"
      }
    },
    {
      "cell_type": "code",
      "source": [
        "data_2 = data_2[data_2['Customer Status'] != 'Joined']\n",
        "data_2['Customer Status'] = data_2['Customer Status'].apply(lambda x: 1 if x=='Churned' else 0) # Maps the relevant features to be numerical values so our model can work\n",
        "data_2['Gender'] = data_2['Gender'].apply(lambda x: 1 if x=='Male' else 0)\n",
        "data_2['Married'] = data_2['Married'].apply(lambda x: Yes_No_mapper[x])\n",
        "data_2['Phone Service'] = data_2['Phone Service'].apply(lambda x: Yes_No_mapper[x])\n",
        "data_2['Multiple Lines'] = data_2['Multiple Lines'].apply(lambda x: Yes_No_mapper[x])\n",
        "data_2['Internet Service'] = data_2['Internet Service'].apply(lambda x: Yes_No_mapper[x])\n",
        "data_2['Device Protection Plan'] = data_2['Device Protection Plan'].apply(lambda x: Yes_No_mapper[x])\n",
        "data_2['Premium Tech Support'] = data_2['Premium Tech Support'].apply(lambda x: Yes_No_mapper[x])\n",
        "data_2['Streaming TV'] = data_2['Streaming TV'].apply(lambda x: Yes_No_mapper[x])\n",
        "data_2['Streaming Movies'] = data_2['Streaming Movies'].apply(lambda x: Yes_No_mapper[x])\n",
        "data_2['Streaming Music'] = data_2['Streaming Music'].apply(lambda x: Yes_No_mapper[x])\n",
        "data_2['Unlimited Data'] = data_2['Unlimited Data'].apply(lambda x: Yes_No_mapper[x])\n",
        "data_2['Offer'] = data_2['Offer'].apply(lambda x: value_mapper[x])"
      ],
      "metadata": {
        "id": "kvc7HkYL4RTt",
        "colab": {
          "base_uri": "https://localhost:8080/"
        },
        "outputId": "a591d8c6-b7f8-46d4-d153-2d096d32994b"
      },
      "execution_count": 35,
      "outputs": [
        {
          "output_type": "stream",
          "name": "stderr",
          "text": [
            "/usr/local/lib/python3.7/dist-packages/ipykernel_launcher.py:2: SettingWithCopyWarning: \n",
            "A value is trying to be set on a copy of a slice from a DataFrame.\n",
            "Try using .loc[row_indexer,col_indexer] = value instead\n",
            "\n",
            "See the caveats in the documentation: https://pandas.pydata.org/pandas-docs/stable/user_guide/indexing.html#returning-a-view-versus-a-copy\n",
            "  \n",
            "/usr/local/lib/python3.7/dist-packages/ipykernel_launcher.py:3: SettingWithCopyWarning: \n",
            "A value is trying to be set on a copy of a slice from a DataFrame.\n",
            "Try using .loc[row_indexer,col_indexer] = value instead\n",
            "\n",
            "See the caveats in the documentation: https://pandas.pydata.org/pandas-docs/stable/user_guide/indexing.html#returning-a-view-versus-a-copy\n",
            "  This is separate from the ipykernel package so we can avoid doing imports until\n"
          ]
        }
      ]
    },
    {
      "cell_type": "code",
      "source": [
        "data_2.info()"
      ],
      "metadata": {
        "colab": {
          "base_uri": "https://localhost:8080/"
        },
        "id": "HVT2A_Xv5CL0",
        "outputId": "692eedce-5c5e-476e-cc91-217f0ff93e0e"
      },
      "execution_count": 36,
      "outputs": [
        {
          "output_type": "stream",
          "name": "stdout",
          "text": [
            "<class 'pandas.core.frame.DataFrame'>\n",
            "Int64Index: 4601 entries, 0 to 7041\n",
            "Data columns (total 23 columns):\n",
            " #   Column                             Non-Null Count  Dtype  \n",
            "---  ------                             --------------  -----  \n",
            " 0   Gender                             4601 non-null   int64  \n",
            " 1   Age                                4601 non-null   int64  \n",
            " 2   Married                            4601 non-null   int64  \n",
            " 3   City                               4601 non-null   object \n",
            " 4   Number of Referrals                4601 non-null   int64  \n",
            " 5   Tenure in Months                   4601 non-null   int64  \n",
            " 6   Offer                              4601 non-null   int64  \n",
            " 7   Phone Service                      4601 non-null   int64  \n",
            " 8   Avg Monthly Long Distance Charges  4601 non-null   float64\n",
            " 9   Multiple Lines                     4601 non-null   int64  \n",
            " 10  Internet Service                   4601 non-null   int64  \n",
            " 11  Avg Monthly GB Download            4601 non-null   float64\n",
            " 12  Device Protection Plan             4601 non-null   int64  \n",
            " 13  Premium Tech Support               4601 non-null   int64  \n",
            " 14  Streaming TV                       4601 non-null   int64  \n",
            " 15  Streaming Movies                   4601 non-null   int64  \n",
            " 16  Streaming Music                    4601 non-null   int64  \n",
            " 17  Unlimited Data                     4601 non-null   int64  \n",
            " 18  Monthly Charge                     4601 non-null   float64\n",
            " 19  Total Charges                      4601 non-null   float64\n",
            " 20  Total Refunds                      4601 non-null   float64\n",
            " 21  Total Revenue                      4601 non-null   float64\n",
            " 22  Customer Status                    4601 non-null   int64  \n",
            "dtypes: float64(6), int64(16), object(1)\n",
            "memory usage: 862.7+ KB\n"
          ]
        }
      ]
    },
    {
      "cell_type": "markdown",
      "source": [
        "## DATA VISUALIZATION"
      ],
      "metadata": {
        "id": "i8R7Cddn-hS3"
      }
    },
    {
      "cell_type": "code",
      "source": [
        "sns.set_theme(style='darkgrid')"
      ],
      "metadata": {
        "id": "13ASc53tBmsB"
      },
      "execution_count": 37,
      "outputs": []
    },
    {
      "cell_type": "code",
      "source": [
        "ten_most_popular_cities = data_2['City'].value_counts()[:10].values\n",
        "ten_most_popular_cities_labes = data_2['City'].value_counts()[:10].index.tolist()\n",
        "plt.figure(figsize=(20,10))\n",
        "plt.pie(ten_most_popular_cities, labels=ten_most_popular_cities_labes, autopct='%1.1f%%')\n",
        "plt.show()"
      ],
      "metadata": {
        "colab": {
          "base_uri": "https://localhost:8080/",
          "height": 575
        },
        "id": "iNVtgk7w6Ser",
        "outputId": "bcef62fd-117c-4439-b799-a3537b0e16b9"
      },
      "execution_count": 38,
      "outputs": [
        {
          "output_type": "display_data",
          "data": {
            "text/plain": [
              "<Figure size 1440x720 with 1 Axes>"
            ],
            "image/png": "[encoded data removed]"
          },
          "metadata": {}
        }
      ]
    },
    {
      "cell_type": "code",
      "source": [
        "avearge_by_city = data_2.groupby('City')['Monthly Charge'].mean().sort_values(ascending=False)\n",
        "ten_most_expensive_cities_labels = avearge_by_city[:10].index.to_list()\n",
        "ten_most_expensive_cities = avearge_by_city[:10].values\n",
        "plt.figure(figsize=(20,10))\n",
        "plt.bar(ten_most_expensive_cities_labels, ten_most_expensive_cities)\n",
        "plt.show()"
      ],
      "metadata": {
        "colab": {
          "base_uri": "https://localhost:8080/",
          "height": 597
        },
        "id": "eNfIxBUPIL6P",
        "outputId": "0753b31a-913f-4ab7-c89f-65fa033be83f"
      },
      "execution_count": 39,
      "outputs": [
        {
          "output_type": "display_data",
          "data": {
            "text/plain": [
              "<Figure size 1440x720 with 1 Axes>"
            ],
            "image/png": "[encoded data removed]"
          },
          "metadata": {}
        }
      ]
    },
    {
      "cell_type": "code",
      "source": [
        "plt.figure(figsize=(20,10))\n",
        "sns.lineplot(x='Tenure in Months', y='Monthly Charge', data=data_2).set_title(\n",
        "    'Average price evolution'\n",
        ")"
      ],
      "metadata": {
        "colab": {
          "base_uri": "https://localhost:8080/",
          "height": 644
        },
        "id": "SadYybviB_gV",
        "outputId": "47fe9f38-57f4-454f-c595-3fee6b74102b"
      },
      "execution_count": 40,
      "outputs": [
        {
          "output_type": "execute_result",
          "data": {
            "text/plain": [
              "Text(0.5, 1.0, 'Average price evolution')"
            ]
          },
          "metadata": {},
          "execution_count": 40
        },
        {
          "output_type": "display_data",
          "data": {
            "text/plain": [
              "<Figure size 1440x720 with 1 Axes>"
            ],
            "image/png": "[encoded data removed]"
          },
          "metadata": {}
        }
      ]
    },
    {
      "cell_type": "code",
      "source": [
        "plt.figure(figsize=(20,10))\n",
        "data_2['Offer'].value_counts().plot.bar().set_title(\n",
        "    'The most popular type of offer'\n",
        ")"
      ],
      "metadata": {
        "colab": {
          "base_uri": "https://localhost:8080/",
          "height": 624
        },
        "id": "zHw1Le_1CUV5",
        "outputId": "7db6bfd6-4000-44c8-cacc-8c4cc05ff043"
      },
      "execution_count": 41,
      "outputs": [
        {
          "output_type": "execute_result",
          "data": {
            "text/plain": [
              "Text(0.5, 1.0, 'The most popular type of offer')"
            ]
          },
          "metadata": {},
          "execution_count": 41
        },
        {
          "output_type": "display_data",
          "data": {
            "text/plain": [
              "<Figure size 1440x720 with 1 Axes>"
            ],
            "image/png": "[encoded data removed]"
          },
          "metadata": {}
        }
      ]
    },
    {
      "cell_type": "code",
      "source": [
        "plt.figure(figsize=(20,10))\n",
        "data_2['Multiple Lines'].value_counts().plot.bar().set_title(\n",
        "    'Number of active lines for each client'\n",
        ")"
      ],
      "metadata": {
        "colab": {
          "base_uri": "https://localhost:8080/",
          "height": 624
        },
        "id": "UDh10t1KEKkU",
        "outputId": "df77b741-1621-4a63-8ad5-3f6ed60a125b"
      },
      "execution_count": 42,
      "outputs": [
        {
          "output_type": "execute_result",
          "data": {
            "text/plain": [
              "Text(0.5, 1.0, 'Number of active lines for each client')"
            ]
          },
          "metadata": {},
          "execution_count": 42
        },
        {
          "output_type": "display_data",
          "data": {
            "text/plain": [
              "<Figure size 1440x720 with 1 Axes>"
            ],
            "image/png": "[encoded data removed]"
          },
          "metadata": {}
        }
      ]
    },
    {
      "cell_type": "code",
      "source": [
        "plt.figure(figsize=(20,10))\n",
        "data_2['Gender'].value_counts().plot.bar().set_title(\n",
        "    'Gender breakdown'\n",
        ")"
      ],
      "metadata": {
        "colab": {
          "base_uri": "https://localhost:8080/",
          "height": 624
        },
        "id": "7vdlpM4VDjs0",
        "outputId": "ba6267d2-defb-4308-9523-c033a208d4b1"
      },
      "execution_count": 43,
      "outputs": [
        {
          "output_type": "execute_result",
          "data": {
            "text/plain": [
              "Text(0.5, 1.0, 'Gender breakdown')"
            ]
          },
          "metadata": {},
          "execution_count": 43
        },
        {
          "output_type": "display_data",
          "data": {
            "text/plain": [
              "<Figure size 1440x720 with 1 Axes>"
            ],
            "image/png": "[encoded data removed]"
          },
          "metadata": {}
        }
      ]
    },
    {
      "cell_type": "code",
      "source": [
        "plt.figure(figsize=(20,10))\n",
        "plt.hist(data_2['Age'])\n",
        "plt.show()"
      ],
      "metadata": {
        "colab": {
          "base_uri": "https://localhost:8080/",
          "height": 594
        },
        "id": "og9jUL3CFNEO",
        "outputId": "5265bd0c-784f-4920-9e21-ae5e3f998a5e"
      },
      "execution_count": 44,
      "outputs": [
        {
          "output_type": "display_data",
          "data": {
            "text/plain": [
              "<Figure size 1440x720 with 1 Axes>"
            ],
            "image/png": "[encoded data removed]"
          },
          "metadata": {}
        }
      ]
    },
    {
      "cell_type": "code",
      "source": [
        "plt.figure(figsize=(20,10))\n",
        "plt.hist(data_2['Total Charges'])\n",
        "plt.show()"
      ],
      "metadata": {
        "colab": {
          "base_uri": "https://localhost:8080/",
          "height": 594
        },
        "id": "JhrdJVZqFwM0",
        "outputId": "993a0dce-1f45-4e5d-dcd7-7812aa951cdc"
      },
      "execution_count": 45,
      "outputs": [
        {
          "output_type": "display_data",
          "data": {
            "text/plain": [
              "<Figure size 1440x720 with 1 Axes>"
            ],
            "image/png": "[encoded data removed]"
          },
          "metadata": {}
        }
      ]
    },
    {
      "cell_type": "code",
      "source": [
        "plt.figure(figsize=(20,10))\n",
        "plt.hist(data_2['Monthly Charge'])\n",
        "plt.show()"
      ],
      "metadata": {
        "colab": {
          "base_uri": "https://localhost:8080/",
          "height": 594
        },
        "id": "x6rTtpJVGsue",
        "outputId": "cfcf2994-4428-411a-af67-6439bdaeeaea"
      },
      "execution_count": 46,
      "outputs": [
        {
          "output_type": "display_data",
          "data": {
            "text/plain": [
              "<Figure size 1440x720 with 1 Axes>"
            ],
            "image/png": "[encoded data removed]"
          },
          "metadata": {}
        }
      ]
    },
    {
      "cell_type": "code",
      "source": [
        "churned_gender = data_2[data_2['Customer Status']==1].Gender\n",
        "not_churned_gender = data_2[data_2['Customer Status']==0].Gender\n",
        "plt.figure(figsize=(20,10))\n",
        "plt.hist([churned_gender, not_churned_gender], \n",
        "         label = ['Churned', 'Not Churned'])\n",
        "plt.legend()\n",
        "plt.show()"
      ],
      "metadata": {
        "colab": {
          "base_uri": "https://localhost:8080/",
          "height": 683
        },
        "id": "q7V5h_kARsLm",
        "outputId": "2c5079f7-dabe-434b-ab64-f80ba7cd756f"
      },
      "execution_count": 47,
      "outputs": [
        {
          "output_type": "stream",
          "name": "stderr",
          "text": [
            "/usr/local/lib/python3.7/dist-packages/numpy/core/fromnumeric.py:3208: VisibleDeprecationWarning: Creating an ndarray from ragged nested sequences (which is a list-or-tuple of lists-or-tuples-or ndarrays with different lengths or shapes) is deprecated. If you meant to do this, you must specify 'dtype=object' when creating the ndarray.\n",
            "  return asarray(a).size\n",
            "/usr/local/lib/python3.7/dist-packages/matplotlib/cbook/__init__.py:1376: VisibleDeprecationWarning: Creating an ndarray from ragged nested sequences (which is a list-or-tuple of lists-or-tuples-or ndarrays with different lengths or shapes) is deprecated. If you meant to do this, you must specify 'dtype=object' when creating the ndarray.\n",
            "  X = np.atleast_1d(X.T if isinstance(X, np.ndarray) else np.asarray(X))\n"
          ]
        },
        {
          "output_type": "display_data",
          "data": {
            "text/plain": [
              "<Figure size 1440x720 with 1 Axes>"
            ],
            "image/png": "[encoded data removed]"
          },
          "metadata": {}
        }
      ]
    },
    {
      "cell_type": "markdown",
      "source": [
        "### Final part of feature engineering"
      ],
      "metadata": {
        "id": "L9of4eZxMDzA"
      }
    },
    {
      "cell_type": "code",
      "source": [
        "final_data = data_2.copy()"
      ],
      "metadata": {
        "id": "41ir6G4DKPFH"
      },
      "execution_count": 48,
      "outputs": []
    },
    {
      "cell_type": "markdown",
      "source": [
        "### For our model, we keep only those features that appears to be the most relevant"
      ],
      "metadata": {
        "id": "_yWe_DISRt7O"
      }
    },
    {
      "cell_type": "code",
      "source": [
        "final_data = final_data[['Gender', 'Age', 'Married', 'City', 'Tenure in Months',\n",
        "                         'Offer', 'Monthly Charge', 'Total Refunds', \n",
        "                         'Total Revenue', 'Customer Status']]"
      ],
      "metadata": {
        "id": "jq4D3BkwRBkS"
      },
      "execution_count": 49,
      "outputs": []
    },
    {
      "cell_type": "code",
      "source": [
        "final_data.head()"
      ],
      "metadata": {
        "colab": {
          "base_uri": "https://localhost:8080/",
          "height": 206
        },
        "id": "RMzT55h5RJGo",
        "outputId": "4159638f-b6ef-43e1-9f49-3d67e16e427f"
      },
      "execution_count": 50,
      "outputs": [
        {
          "output_type": "execute_result",
          "data": {
            "text/plain": [
              "   Gender  Age  Married          City  Tenure in Months  Offer  \\\n",
              "0       0   37        1  Frazier Park                 9      0   \n",
              "1       1   46        0      Glendale                 9      0   \n",
              "2       1   50        0    Costa Mesa                 4      5   \n",
              "3       1   78        1      Martinez                13      4   \n",
              "4       0   75        1     Camarillo                 3      0   \n",
              "\n",
              "   Monthly Charge  Total Refunds  Total Revenue  Customer Status  \n",
              "0            65.6           0.00         974.81                0  \n",
              "1            -4.0          38.33         610.28                0  \n",
              "2            73.9           0.00         415.45                1  \n",
              "3            98.0           0.00        1599.51                1  \n",
              "4            83.9           0.00         289.54                1  "
            ],
            "text/html": [
              "\n",
              "  <div id=\"df-a4476618-16dc-47e5-828f-2ca452c41e1b\">\n",
              "    <div class=\"colab-df-container\">\n",
              "      <div>\n",
              "<style scoped>\n",
              "    .dataframe tbody tr th:only-of-type {\n",
              "        vertical-align: middle;\n",
              "    }\n",
              "\n",
              "    .dataframe tbody tr th {\n",
              "        vertical-align: top;\n",
              "    }\n",
              "\n",
              "    .dataframe thead th {\n",
              "        text-align: right;\n",
              "    }\n",
              "</style>\n",
              "<table border=\"1\" class=\"dataframe\">\n",
              "  <thead>\n",
              "    <tr style=\"text-align: right;\">\n",
              "      <th></th>\n",
              "      <th>Gender</th>\n",
              "      <th>Age</th>\n",
              "      <th>Married</th>\n",
              "      <th>City</th>\n",
              "      <th>Tenure in Months</th>\n",
              "      <th>Offer</th>\n",
              "      <th>Monthly Charge</th>\n",
              "      <th>Total Refunds</th>\n",
              "      <th>Total Revenue</th>\n",
              "      <th>Customer Status</th>\n",
              "    </tr>\n",
              "  </thead>\n",
              "  <tbody>\n",
              "    <tr>\n",
              "      <th>0</th>\n",
              "      <td>0</td>\n",
              "      <td>37</td>\n",
              "      <td>1</td>\n",
              "      <td>Frazier Park</td>\n",
              "      <td>9</td>\n",
              "      <td>0</td>\n",
              "      <td>65.6</td>\n",
              "      <td>0.00</td>\n",
              "      <td>974.81</td>\n",
              "      <td>0</td>\n",
              "    </tr>\n",
              "    <tr>\n",
              "      <th>1</th>\n",
              "      <td>1</td>\n",
              "      <td>46</td>\n",
              "      <td>0</td>\n",
              "      <td>Glendale</td>\n",
              "      <td>9</td>\n",
              "      <td>0</td>\n",
              "      <td>-4.0</td>\n",
              "      <td>38.33</td>\n",
              "      <td>610.28</td>\n",
              "      <td>0</td>\n",
              "    </tr>\n",
              "    <tr>\n",
              "      <th>2</th>\n",
              "      <td>1</td>\n",
              "      <td>50</td>\n",
              "      <td>0</td>\n",
              "      <td>Costa Mesa</td>\n",
              "      <td>4</td>\n",
              "      <td>5</td>\n",
              "      <td>73.9</td>\n",
              "      <td>0.00</td>\n",
              "      <td>415.45</td>\n",
              "      <td>1</td>\n",
              "    </tr>\n",
              "    <tr>\n",
              "      <th>3</th>\n",
              "      <td>1</td>\n",
              "      <td>78</td>\n",
              "      <td>1</td>\n",
              "      <td>Martinez</td>\n",
              "      <td>13</td>\n",
              "      <td>4</td>\n",
              "      <td>98.0</td>\n",
              "      <td>0.00</td>\n",
              "      <td>1599.51</td>\n",
              "      <td>1</td>\n",
              "    </tr>\n",
              "    <tr>\n",
              "      <th>4</th>\n",
              "      <td>0</td>\n",
              "      <td>75</td>\n",
              "      <td>1</td>\n",
              "      <td>Camarillo</td>\n",
              "      <td>3</td>\n",
              "      <td>0</td>\n",
              "      <td>83.9</td>\n",
              "      <td>0.00</td>\n",
              "      <td>289.54</td>\n",
              "      <td>1</td>\n",
              "    </tr>\n",
              "  </tbody>\n",
              "</table>\n",
              "</div>\n",
              "      <button class=\"colab-df-convert\" onclick=\"convertToInteractive('df-a4476618-16dc-47e5-828f-2ca452c41e1b')\"\n",
              "              title=\"Convert this dataframe to an interactive table.\"\n",
              "              style=\"display:none;\">\n",
              "        \n",
              "  <svg xmlns=\"http://www.w3.org/2000/svg\" height=\"24px\"viewBox=\"0 0 24 24\"\n",
              "       width=\"24px\">\n",
              "    <path d=\"M0 0h24v24H0V0z\" fill=\"none\"/>\n",
              "    <path d=\"M18.56 5.44l.94 2.06.94-2.06 2.06-.94-2.06-.94-.94-2.06-.94 2.06-2.06.94zm-11 1L8.5 8.5l.94-2.06 2.06-.94-2.06-.94L8.5 2.5l-.94 2.06-2.06.94zm10 10l.94 2.06.94-2.06 2.06-.94-2.06-.94-.94-2.06-.94 2.06-2.06.94z\"/><path d=\"M17.41 7.96l-1.37-1.37c-.4-.4-.92-.59-1.43-.59-.52 0-1.04.2-1.43.59L10.3 9.45l-7.72 7.72c-.78.78-.78 2.05 0 2.83L4 21.41c.39.39.9.59 1.41.59.51 0 1.02-.2 1.41-.59l7.78-7.78 2.81-2.81c.8-.78.8-2.07 0-2.86zM5.41 20L4 18.59l7.72-7.72 1.47 1.35L5.41 20z\"/>\n",
              "  </svg>\n",
              "      </button>\n",
              "      \n",
              "  <style>\n",
              "    .colab-df-container {\n",
              "      display:flex;\n",
              "      flex-wrap:wrap;\n",
              "      gap: 12px;\n",
              "    }\n",
              "\n",
              "    .colab-df-convert {\n",
              "      background-color: #E8F0FE;\n",
              "      border: none;\n",
              "      border-radius: 50%;\n",
              "      cursor: pointer;\n",
              "      display: none;\n",
              "      fill: #1967D2;\n",
              "      height: 32px;\n",
              "      padding: 0 0 0 0;\n",
              "      width: 32px;\n",
              "    }\n",
              "\n",
              "    .colab-df-convert:hover {\n",
              "      background-color: #E2EBFA;\n",
              "      box-shadow: 0px 1px 2px rgba(60, 64, 67, 0.3), 0px 1px 3px 1px rgba(60, 64, 67, 0.15);\n",
              "      fill: #174EA6;\n",
              "    }\n",
              "\n",
              "    [theme=dark] .colab-df-convert {\n",
              "      background-color: #3B4455;\n",
              "      fill: #D2E3FC;\n",
              "    }\n",
              "\n",
              "    [theme=dark] .colab-df-convert:hover {\n",
              "      background-color: #434B5C;\n",
              "      box-shadow: 0px 1px 3px 1px rgba(0, 0, 0, 0.15);\n",
              "      filter: drop-shadow(0px 1px 2px rgba(0, 0, 0, 0.3));\n",
              "      fill: #FFFFFF;\n",
              "    }\n",
              "  </style>\n",
              "\n",
              "      <script>\n",
              "        const buttonEl =\n",
              "          document.querySelector('#df-a4476618-16dc-47e5-828f-2ca452c41e1b button.colab-df-convert');\n",
              "        buttonEl.style.display =\n",
              "          google.colab.kernel.accessAllowed ? 'block' : 'none';\n",
              "\n",
              "        async function convertToInteractive(key) {\n",
              "          const element = document.querySelector('#df-a4476618-16dc-47e5-828f-2ca452c41e1b');\n",
              "          const dataTable =\n",
              "            await google.colab.kernel.invokeFunction('convertToInteractive',\n",
              "                                                     [key], {});\n",
              "          if (!dataTable) return;\n",
              "\n",
              "          const docLinkHtml = 'Like what you see? Visit the ' +\n",
              "            '<a target=\"_blank\" href=https://colab.research.google.com/notebooks/data_table.ipynb>data table notebook</a>'\n",
              "            + ' to learn more about interactive tables.';\n",
              "          element.innerHTML = '';\n",
              "          dataTable['output_type'] = 'display_data';\n",
              "          await google.colab.output.renderOutput(dataTable, element);\n",
              "          const docLink = document.createElement('div');\n",
              "          docLink.innerHTML = docLinkHtml;\n",
              "          element.appendChild(docLink);\n",
              "        }\n",
              "      </script>\n",
              "    </div>\n",
              "  </div>\n",
              "  "
            ]
          },
          "metadata": {},
          "execution_count": 50
        }
      ]
    },
    {
      "cell_type": "code",
      "source": [
        "final_data.corr()['Customer Status'].abs().sort_values(ascending=False)"
      ],
      "metadata": {
        "colab": {
          "base_uri": "https://localhost:8080/"
        },
        "id": "fj1KSozoRKO2",
        "outputId": "fd8e8f3d-7dd8-416c-99de-aee01d54377a"
      },
      "execution_count": 51,
      "outputs": [
        {
          "output_type": "execute_result",
          "data": {
            "text/plain": [
              "Customer Status     1.000000\n",
              "Tenure in Months    0.471463\n",
              "Total Revenue       0.407782\n",
              "Married             0.199354\n",
              "Offer               0.141357\n",
              "Age                 0.094953\n",
              "Total Refunds       0.042967\n",
              "Gender              0.008673\n",
              "Monthly Charge      0.003226\n",
              "Name: Customer Status, dtype: float64"
            ]
          },
          "metadata": {},
          "execution_count": 51
        }
      ]
    },
    {
      "cell_type": "code",
      "source": [
        "plt.figure(figsize=(20,10))\n",
        "sns.heatmap(final_data.corr(), annot=True)"
      ],
      "metadata": {
        "colab": {
          "base_uri": "https://localhost:8080/",
          "height": 615
        },
        "id": "vSXY3C9wyLPQ",
        "outputId": "62ea6760-8f8a-4ad9-8dcb-77f4560db425"
      },
      "execution_count": 82,
      "outputs": [
        {
          "output_type": "execute_result",
          "data": {
            "text/plain": [
              "<matplotlib.axes._subplots.AxesSubplot at 0x7f6d76658e90>"
            ]
          },
          "metadata": {},
          "execution_count": 82
        },
        {
          "output_type": "display_data",
          "data": {
            "text/plain": [
              "<Figure size 1440x720 with 2 Axes>"
            ],
            "image/png": "[encoded data removed]"
          },
          "metadata": {}
        }
      ]
    },
    {
      "cell_type": "code",
      "source": [
        "city_dummies = pd.get_dummies(final_data['City'])"
      ],
      "metadata": {
        "id": "cZZdqEVXStKE"
      },
      "execution_count": 52,
      "outputs": []
    },
    {
      "cell_type": "code",
      "source": [
        "city_dummies"
      ],
      "metadata": {
        "colab": {
          "base_uri": "https://localhost:8080/",
          "height": 424
        },
        "id": "x1ZYOtKITDX_",
        "outputId": "263b0605-271d-4359-d0bf-802fb16873e4"
      },
      "execution_count": 53,
      "outputs": [
        {
          "output_type": "execute_result",
          "data": {
            "text/plain": [
              "      Acampo  Acton  Adelanto  Adin  Agoura Hills  Aguanga  Ahwahnee  Alamo  \\\n",
              "0          0      0         0     0             0        0         0      0   \n",
              "1          0      0         0     0             0        0         0      0   \n",
              "2          0      0         0     0             0        0         0      0   \n",
              "3          0      0         0     0             0        0         0      0   \n",
              "4          0      0         0     0             0        0         0      0   \n",
              "...      ...    ...       ...   ...           ...      ...       ...    ...   \n",
              "7035       0      0         0     0             0        0         0      0   \n",
              "7036       0      0         0     0             0        0         0      0   \n",
              "7038       0      0         0     0             0        0         0      0   \n",
              "7039       0      0         0     0             0        0         0      0   \n",
              "7041       0      0         0     0             0        0         0      0   \n",
              "\n",
              "      Albany  Albion  ...  Wrightwood  Yermo  Yorba Linda  Yorkville  \\\n",
              "0          0       0  ...           0      0            0          0   \n",
              "1          0       0  ...           0      0            0          0   \n",
              "2          0       0  ...           0      0            0          0   \n",
              "3          0       0  ...           0      0            0          0   \n",
              "4          0       0  ...           0      0            0          0   \n",
              "...      ...     ...  ...         ...    ...          ...        ...   \n",
              "7035       0       0  ...           0      0            0          0   \n",
              "7036       0       0  ...           0      0            0          0   \n",
              "7038       0       0  ...           0      0            0          0   \n",
              "7039       0       0  ...           0      0            0          0   \n",
              "7041       0       0  ...           0      0            0          0   \n",
              "\n",
              "      Yountville  Yreka  Yuba City  Yucaipa  Yucca Valley  Zenia  \n",
              "0              0      0          0        0             0      0  \n",
              "1              0      0          0        0             0      0  \n",
              "2              0      0          0        0             0      0  \n",
              "3              0      0          0        0             0      0  \n",
              "4              0      0          0        0             0      0  \n",
              "...          ...    ...        ...      ...           ...    ...  \n",
              "7035           0      0          0        0             0      0  \n",
              "7036           0      0          0        0             0      0  \n",
              "7038           0      0          0        0             0      0  \n",
              "7039           0      0          0        0             0      0  \n",
              "7041           0      0          0        0             0      0  \n",
              "\n",
              "[4601 rows x 1085 columns]"
            ],
            "text/html": [
              "\n",
              "  <div id=\"df-bbbddc41-aa55-4239-a3e7-a450612b633e\">\n",
              "    <div class=\"colab-df-container\">\n",
              "      <div>\n",
              "<style scoped>\n",
              "    .dataframe tbody tr th:only-of-type {\n",
              "        vertical-align: middle;\n",
              "    }\n",
              "\n",
              "    .dataframe tbody tr th {\n",
              "        vertical-align: top;\n",
              "    }\n",
              "\n",
              "    .dataframe thead th {\n",
              "        text-align: right;\n",
              "    }\n",
              "</style>\n",
              "<table border=\"1\" class=\"dataframe\">\n",
              "  <thead>\n",
              "    <tr style=\"text-align: right;\">\n",
              "      <th></th>\n",
              "      <th>Acampo</th>\n",
              "      <th>Acton</th>\n",
              "      <th>Adelanto</th>\n",
              "      <th>Adin</th>\n",
              "      <th>Agoura Hills</th>\n",
              "      <th>Aguanga</th>\n",
              "      <th>Ahwahnee</th>\n",
              "      <th>Alamo</th>\n",
              "      <th>Albany</th>\n",
              "      <th>Albion</th>\n",
              "      <th>...</th>\n",
              "      <th>Wrightwood</th>\n",
              "      <th>Yermo</th>\n",
              "      <th>Yorba Linda</th>\n",
              "      <th>Yorkville</th>\n",
              "      <th>Yountville</th>\n",
              "      <th>Yreka</th>\n",
              "      <th>Yuba City</th>\n",
              "      <th>Yucaipa</th>\n",
              "      <th>Yucca Valley</th>\n",
              "      <th>Zenia</th>\n",
              "    </tr>\n",
              "  </thead>\n",
              "  <tbody>\n",
              "    <tr>\n",
              "      <th>0</th>\n",
              "      <td>0</td>\n",
              "      <td>0</td>\n",
              "      <td>0</td>\n",
              "      <td>0</td>\n",
              "      <td>0</td>\n",
              "      <td>0</td>\n",
              "      <td>0</td>\n",
              "      <td>0</td>\n",
              "      <td>0</td>\n",
              "      <td>0</td>\n",
              "      <td>...</td>\n",
              "      <td>0</td>\n",
              "      <td>0</td>\n",
              "      <td>0</td>\n",
              "      <td>0</td>\n",
              "      <td>0</td>\n",
              "      <td>0</td>\n",
              "      <td>0</td>\n",
              "      <td>0</td>\n",
              "      <td>0</td>\n",
              "      <td>0</td>\n",
              "    </tr>\n",
              "    <tr>\n",
              "      <th>1</th>\n",
              "      <td>0</td>\n",
              "      <td>0</td>\n",
              "      <td>0</td>\n",
              "      <td>0</td>\n",
              "      <td>0</td>\n",
              "      <td>0</td>\n",
              "      <td>0</td>\n",
              "      <td>0</td>\n",
              "      <td>0</td>\n",
              "      <td>0</td>\n",
              "      <td>...</td>\n",
              "      <td>0</td>\n",
              "      <td>0</td>\n",
              "      <td>0</td>\n",
              "      <td>0</td>\n",
              "      <td>0</td>\n",
              "      <td>0</td>\n",
              "      <td>0</td>\n",
              "      <td>0</td>\n",
              "      <td>0</td>\n",
              "      <td>0</td>\n",
              "    </tr>\n",
              "    <tr>\n",
              "      <th>2</th>\n",
              "      <td>0</td>\n",
              "      <td>0</td>\n",
              "      <td>0</td>\n",
              "      <td>0</td>\n",
              "      <td>0</td>\n",
              "      <td>0</td>\n",
              "      <td>0</td>\n",
              "      <td>0</td>\n",
              "      <td>0</td>\n",
              "      <td>0</td>\n",
              "      <td>...</td>\n",
              "      <td>0</td>\n",
              "      <td>0</td>\n",
              "      <td>0</td>\n",
              "      <td>0</td>\n",
              "      <td>0</td>\n",
              "      <td>0</td>\n",
              "      <td>0</td>\n",
              "      <td>0</td>\n",
              "      <td>0</td>\n",
              "      <td>0</td>\n",
              "    </tr>\n",
              "    <tr>\n",
              "      <th>3</th>\n",
              "      <td>0</td>\n",
              "      <td>0</td>\n",
              "      <td>0</td>\n",
              "      <td>0</td>\n",
              "      <td>0</td>\n",
              "      <td>0</td>\n",
              "      <td>0</td>\n",
              "      <td>0</td>\n",
              "      <td>0</td>\n",
              "      <td>0</td>\n",
              "      <td>...</td>\n",
              "      <td>0</td>\n",
              "      <td>0</td>\n",
              "      <td>0</td>\n",
              "      <td>0</td>\n",
              "      <td>0</td>\n",
              "      <td>0</td>\n",
              "      <td>0</td>\n",
              "      <td>0</td>\n",
              "      <td>0</td>\n",
              "      <td>0</td>\n",
              "    </tr>\n",
              "    <tr>\n",
              "      <th>4</th>\n",
              "      <td>0</td>\n",
              "      <td>0</td>\n",
              "      <td>0</td>\n",
              "      <td>0</td>\n",
              "      <td>0</td>\n",
              "      <td>0</td>\n",
              "      <td>0</td>\n",
              "      <td>0</td>\n",
              "      <td>0</td>\n",
              "      <td>0</td>\n",
              "      <td>...</td>\n",
              "      <td>0</td>\n",
              "      <td>0</td>\n",
              "      <td>0</td>\n",
              "      <td>0</td>\n",
              "      <td>0</td>\n",
              "      <td>0</td>\n",
              "      <td>0</td>\n",
              "      <td>0</td>\n",
              "      <td>0</td>\n",
              "      <td>0</td>\n",
              "    </tr>\n",
              "    <tr>\n",
              "      <th>...</th>\n",
              "      <td>...</td>\n",
              "      <td>...</td>\n",
              "      <td>...</td>\n",
              "      <td>...</td>\n",
              "      <td>...</td>\n",
              "      <td>...</td>\n",
              "      <td>...</td>\n",
              "      <td>...</td>\n",
              "      <td>...</td>\n",
              "      <td>...</td>\n",
              "      <td>...</td>\n",
              "      <td>...</td>\n",
              "      <td>...</td>\n",
              "      <td>...</td>\n",
              "      <td>...</td>\n",
              "      <td>...</td>\n",
              "      <td>...</td>\n",
              "      <td>...</td>\n",
              "      <td>...</td>\n",
              "      <td>...</td>\n",
              "      <td>...</td>\n",
              "    </tr>\n",
              "    <tr>\n",
              "      <th>7035</th>\n",
              "      <td>0</td>\n",
              "      <td>0</td>\n",
              "      <td>0</td>\n",
              "      <td>0</td>\n",
              "      <td>0</td>\n",
              "      <td>0</td>\n",
              "      <td>0</td>\n",
              "      <td>0</td>\n",
              "      <td>0</td>\n",
              "      <td>0</td>\n",
              "      <td>...</td>\n",
              "      <td>0</td>\n",
              "      <td>0</td>\n",
              "      <td>0</td>\n",
              "      <td>0</td>\n",
              "      <td>0</td>\n",
              "      <td>0</td>\n",
              "      <td>0</td>\n",
              "      <td>0</td>\n",
              "      <td>0</td>\n",
              "      <td>0</td>\n",
              "    </tr>\n",
              "    <tr>\n",
              "      <th>7036</th>\n",
              "      <td>0</td>\n",
              "      <td>0</td>\n",
              "      <td>0</td>\n",
              "      <td>0</td>\n",
              "      <td>0</td>\n",
              "      <td>0</td>\n",
              "      <td>0</td>\n",
              "      <td>0</td>\n",
              "      <td>0</td>\n",
              "      <td>0</td>\n",
              "      <td>...</td>\n",
              "      <td>0</td>\n",
              "      <td>0</td>\n",
              "      <td>0</td>\n",
              "      <td>0</td>\n",
              "      <td>0</td>\n",
              "      <td>0</td>\n",
              "      <td>0</td>\n",
              "      <td>0</td>\n",
              "      <td>0</td>\n",
              "      <td>0</td>\n",
              "    </tr>\n",
              "    <tr>\n",
              "      <th>7038</th>\n",
              "      <td>0</td>\n",
              "      <td>0</td>\n",
              "      <td>0</td>\n",
              "      <td>0</td>\n",
              "      <td>0</td>\n",
              "      <td>0</td>\n",
              "      <td>0</td>\n",
              "      <td>0</td>\n",
              "      <td>0</td>\n",
              "      <td>0</td>\n",
              "      <td>...</td>\n",
              "      <td>0</td>\n",
              "      <td>0</td>\n",
              "      <td>0</td>\n",
              "      <td>0</td>\n",
              "      <td>0</td>\n",
              "      <td>0</td>\n",
              "      <td>0</td>\n",
              "      <td>0</td>\n",
              "      <td>0</td>\n",
              "      <td>0</td>\n",
              "    </tr>\n",
              "    <tr>\n",
              "      <th>7039</th>\n",
              "      <td>0</td>\n",
              "      <td>0</td>\n",
              "      <td>0</td>\n",
              "      <td>0</td>\n",
              "      <td>0</td>\n",
              "      <td>0</td>\n",
              "      <td>0</td>\n",
              "      <td>0</td>\n",
              "      <td>0</td>\n",
              "      <td>0</td>\n",
              "      <td>...</td>\n",
              "      <td>0</td>\n",
              "      <td>0</td>\n",
              "      <td>0</td>\n",
              "      <td>0</td>\n",
              "      <td>0</td>\n",
              "      <td>0</td>\n",
              "      <td>0</td>\n",
              "      <td>0</td>\n",
              "      <td>0</td>\n",
              "      <td>0</td>\n",
              "    </tr>\n",
              "    <tr>\n",
              "      <th>7041</th>\n",
              "      <td>0</td>\n",
              "      <td>0</td>\n",
              "      <td>0</td>\n",
              "      <td>0</td>\n",
              "      <td>0</td>\n",
              "      <td>0</td>\n",
              "      <td>0</td>\n",
              "      <td>0</td>\n",
              "      <td>0</td>\n",
              "      <td>0</td>\n",
              "      <td>...</td>\n",
              "      <td>0</td>\n",
              "      <td>0</td>\n",
              "      <td>0</td>\n",
              "      <td>0</td>\n",
              "      <td>0</td>\n",
              "      <td>0</td>\n",
              "      <td>0</td>\n",
              "      <td>0</td>\n",
              "      <td>0</td>\n",
              "      <td>0</td>\n",
              "    </tr>\n",
              "  </tbody>\n",
              "</table>\n",
              "<p>4601 rows × 1085 columns</p>\n",
              "</div>\n",
              "      <button class=\"colab-df-convert\" onclick=\"convertToInteractive('df-bbbddc41-aa55-4239-a3e7-a450612b633e')\"\n",
              "              title=\"Convert this dataframe to an interactive table.\"\n",
              "              style=\"display:none;\">\n",
              "        \n",
              "  <svg xmlns=\"http://www.w3.org/2000/svg\" height=\"24px\"viewBox=\"0 0 24 24\"\n",
              "       width=\"24px\">\n",
              "    <path d=\"M0 0h24v24H0V0z\" fill=\"none\"/>\n",
              "    <path d=\"M18.56 5.44l.94 2.06.94-2.06 2.06-.94-2.06-.94-.94-2.06-.94 2.06-2.06.94zm-11 1L8.5 8.5l.94-2.06 2.06-.94-2.06-.94L8.5 2.5l-.94 2.06-2.06.94zm10 10l.94 2.06.94-2.06 2.06-.94-2.06-.94-.94-2.06-.94 2.06-2.06.94z\"/><path d=\"M17.41 7.96l-1.37-1.37c-.4-.4-.92-.59-1.43-.59-.52 0-1.04.2-1.43.59L10.3 9.45l-7.72 7.72c-.78.78-.78 2.05 0 2.83L4 21.41c.39.39.9.59 1.41.59.51 0 1.02-.2 1.41-.59l7.78-7.78 2.81-2.81c.8-.78.8-2.07 0-2.86zM5.41 20L4 18.59l7.72-7.72 1.47 1.35L5.41 20z\"/>\n",
              "  </svg>\n",
              "      </button>\n",
              "      \n",
              "  <style>\n",
              "    .colab-df-container {\n",
              "      display:flex;\n",
              "      flex-wrap:wrap;\n",
              "      gap: 12px;\n",
              "    }\n",
              "\n",
              "    .colab-df-convert {\n",
              "      background-color: #E8F0FE;\n",
              "      border: none;\n",
              "      border-radius: 50%;\n",
              "      cursor: pointer;\n",
              "      display: none;\n",
              "      fill: #1967D2;\n",
              "      height: 32px;\n",
              "      padding: 0 0 0 0;\n",
              "      width: 32px;\n",
              "    }\n",
              "\n",
              "    .colab-df-convert:hover {\n",
              "      background-color: #E2EBFA;\n",
              "      box-shadow: 0px 1px 2px rgba(60, 64, 67, 0.3), 0px 1px 3px 1px rgba(60, 64, 67, 0.15);\n",
              "      fill: #174EA6;\n",
              "    }\n",
              "\n",
              "    [theme=dark] .colab-df-convert {\n",
              "      background-color: #3B4455;\n",
              "      fill: #D2E3FC;\n",
              "    }\n",
              "\n",
              "    [theme=dark] .colab-df-convert:hover {\n",
              "      background-color: #434B5C;\n",
              "      box-shadow: 0px 1px 3px 1px rgba(0, 0, 0, 0.15);\n",
              "      filter: drop-shadow(0px 1px 2px rgba(0, 0, 0, 0.3));\n",
              "      fill: #FFFFFF;\n",
              "    }\n",
              "  </style>\n",
              "\n",
              "      <script>\n",
              "        const buttonEl =\n",
              "          document.querySelector('#df-bbbddc41-aa55-4239-a3e7-a450612b633e button.colab-df-convert');\n",
              "        buttonEl.style.display =\n",
              "          google.colab.kernel.accessAllowed ? 'block' : 'none';\n",
              "\n",
              "        async function convertToInteractive(key) {\n",
              "          const element = document.querySelector('#df-bbbddc41-aa55-4239-a3e7-a450612b633e');\n",
              "          const dataTable =\n",
              "            await google.colab.kernel.invokeFunction('convertToInteractive',\n",
              "                                                     [key], {});\n",
              "          if (!dataTable) return;\n",
              "\n",
              "          const docLinkHtml = 'Like what you see? Visit the ' +\n",
              "            '<a target=\"_blank\" href=https://colab.research.google.com/notebooks/data_table.ipynb>data table notebook</a>'\n",
              "            + ' to learn more about interactive tables.';\n",
              "          element.innerHTML = '';\n",
              "          dataTable['output_type'] = 'display_data';\n",
              "          await google.colab.output.renderOutput(dataTable, element);\n",
              "          const docLink = document.createElement('div');\n",
              "          docLink.innerHTML = docLinkHtml;\n",
              "          element.appendChild(docLink);\n",
              "        }\n",
              "      </script>\n",
              "    </div>\n",
              "  </div>\n",
              "  "
            ]
          },
          "metadata": {},
          "execution_count": 53
        }
      ]
    },
    {
      "cell_type": "markdown",
      "source": [
        "### Doing one-hot encoding gives us a matrix that is too large for logistic regression. Instead, we'll use the label encoder from sklearn "
      ],
      "metadata": {
        "id": "kg2kWtBFTIvr"
      }
    },
    {
      "cell_type": "code",
      "source": [
        "from sklearn.preprocessing import LabelEncoder\n",
        "from sklearn.preprocessing import StandardScaler"
      ],
      "metadata": {
        "id": "Q6S_kM1-TESV"
      },
      "execution_count": 54,
      "outputs": []
    },
    {
      "cell_type": "markdown",
      "source": [
        "### We need to replace the cities with their respective codes"
      ],
      "metadata": {
        "id": "D6AJcZ_BSEKc"
      }
    },
    {
      "cell_type": "code",
      "source": [
        "label_encoder = LabelEncoder()\n",
        "final_data['City'] = label_encoder.fit(final_data['City']).transform(final_data['City']) # replace the names of the Cities with their \"codes\""
      ],
      "metadata": {
        "id": "-hQz6tgDDNSZ"
      },
      "execution_count": 55,
      "outputs": []
    },
    {
      "cell_type": "code",
      "source": [
        "final_data"
      ],
      "metadata": {
        "colab": {
          "base_uri": "https://localhost:8080/",
          "height": 424
        },
        "id": "EteGT45iDkrt",
        "outputId": "6951f05f-6344-44a0-9c55-9e22efe30a55"
      },
      "execution_count": 56,
      "outputs": [
        {
          "output_type": "execute_result",
          "data": {
            "text/plain": [
              "      Gender  Age  Married  City  Tenure in Months  Offer  Monthly Charge  \\\n",
              "0          0   37        1   338                 9      0           65.60   \n",
              "1          1   46        0   360                 9      0           -4.00   \n",
              "2          1   50        0   217                 4      5           73.90   \n",
              "3          1   78        1   576                13      4           98.00   \n",
              "4          0   75        1   136                 3      0           83.90   \n",
              "...      ...  ...      ...   ...               ...    ...             ...   \n",
              "7035       0   20        0   543                 7      5           94.05   \n",
              "7036       0   53        0   427                 1      5           70.15   \n",
              "7038       0   20        0   481                13      4           55.15   \n",
              "7039       1   40        1   811                22      4           85.10   \n",
              "7041       1   21        1   913                67      1           67.85   \n",
              "\n",
              "      Total Refunds  Total Revenue  Customer Status  \n",
              "0              0.00         974.81                0  \n",
              "1             38.33         610.28                0  \n",
              "2              0.00         415.45                1  \n",
              "3              0.00        1599.51                1  \n",
              "4              0.00         289.54                1  \n",
              "...             ...            ...              ...  \n",
              "7035           0.00         888.88                0  \n",
              "7036           0.00         112.24                1  \n",
              "7038           0.00        1349.74                0  \n",
              "7039           0.00        2230.10                1  \n",
              "7041           0.00        4769.69                0  \n",
              "\n",
              "[4601 rows x 10 columns]"
            ],
            "text/html": [
              "\n",
              "  <div id=\"df-146f2b0f-1945-4121-88ad-bcb2cdeaab4a\">\n",
              "    <div class=\"colab-df-container\">\n",
              "      <div>\n",
              "<style scoped>\n",
              "    .dataframe tbody tr th:only-of-type {\n",
              "        vertical-align: middle;\n",
              "    }\n",
              "\n",
              "    .dataframe tbody tr th {\n",
              "        vertical-align: top;\n",
              "    }\n",
              "\n",
              "    .dataframe thead th {\n",
              "        text-align: right;\n",
              "    }\n",
              "</style>\n",
              "<table border=\"1\" class=\"dataframe\">\n",
              "  <thead>\n",
              "    <tr style=\"text-align: right;\">\n",
              "      <th></th>\n",
              "      <th>Gender</th>\n",
              "      <th>Age</th>\n",
              "      <th>Married</th>\n",
              "      <th>City</th>\n",
              "      <th>Tenure in Months</th>\n",
              "      <th>Offer</th>\n",
              "      <th>Monthly Charge</th>\n",
              "      <th>Total Refunds</th>\n",
              "      <th>Total Revenue</th>\n",
              "      <th>Customer Status</th>\n",
              "    </tr>\n",
              "  </thead>\n",
              "  <tbody>\n",
              "    <tr>\n",
              "      <th>0</th>\n",
              "      <td>0</td>\n",
              "      <td>37</td>\n",
              "      <td>1</td>\n",
              "      <td>338</td>\n",
              "      <td>9</td>\n",
              "      <td>0</td>\n",
              "      <td>65.60</td>\n",
              "      <td>0.00</td>\n",
              "      <td>974.81</td>\n",
              "      <td>0</td>\n",
              "    </tr>\n",
              "    <tr>\n",
              "      <th>1</th>\n",
              "      <td>1</td>\n",
              "      <td>46</td>\n",
              "      <td>0</td>\n",
              "      <td>360</td>\n",
              "      <td>9</td>\n",
              "      <td>0</td>\n",
              "      <td>-4.00</td>\n",
              "      <td>38.33</td>\n",
              "      <td>610.28</td>\n",
              "      <td>0</td>\n",
              "    </tr>\n",
              "    <tr>\n",
              "      <th>2</th>\n",
              "      <td>1</td>\n",
              "      <td>50</td>\n",
              "      <td>0</td>\n",
              "      <td>217</td>\n",
              "      <td>4</td>\n",
              "      <td>5</td>\n",
              "      <td>73.90</td>\n",
              "      <td>0.00</td>\n",
              "      <td>415.45</td>\n",
              "      <td>1</td>\n",
              "    </tr>\n",
              "    <tr>\n",
              "      <th>3</th>\n",
              "      <td>1</td>\n",
              "      <td>78</td>\n",
              "      <td>1</td>\n",
              "      <td>576</td>\n",
              "      <td>13</td>\n",
              "      <td>4</td>\n",
              "      <td>98.00</td>\n",
              "      <td>0.00</td>\n",
              "      <td>1599.51</td>\n",
              "      <td>1</td>\n",
              "    </tr>\n",
              "    <tr>\n",
              "      <th>4</th>\n",
              "      <td>0</td>\n",
              "      <td>75</td>\n",
              "      <td>1</td>\n",
              "      <td>136</td>\n",
              "      <td>3</td>\n",
              "      <td>0</td>\n",
              "      <td>83.90</td>\n",
              "      <td>0.00</td>\n",
              "      <td>289.54</td>\n",
              "      <td>1</td>\n",
              "    </tr>\n",
              "    <tr>\n",
              "      <th>...</th>\n",
              "      <td>...</td>\n",
              "      <td>...</td>\n",
              "      <td>...</td>\n",
              "      <td>...</td>\n",
              "      <td>...</td>\n",
              "      <td>...</td>\n",
              "      <td>...</td>\n",
              "      <td>...</td>\n",
              "      <td>...</td>\n",
              "      <td>...</td>\n",
              "    </tr>\n",
              "    <tr>\n",
              "      <th>7035</th>\n",
              "      <td>0</td>\n",
              "      <td>20</td>\n",
              "      <td>0</td>\n",
              "      <td>543</td>\n",
              "      <td>7</td>\n",
              "      <td>5</td>\n",
              "      <td>94.05</td>\n",
              "      <td>0.00</td>\n",
              "      <td>888.88</td>\n",
              "      <td>0</td>\n",
              "    </tr>\n",
              "    <tr>\n",
              "      <th>7036</th>\n",
              "      <td>0</td>\n",
              "      <td>53</td>\n",
              "      <td>0</td>\n",
              "      <td>427</td>\n",
              "      <td>1</td>\n",
              "      <td>5</td>\n",
              "      <td>70.15</td>\n",
              "      <td>0.00</td>\n",
              "      <td>112.24</td>\n",
              "      <td>1</td>\n",
              "    </tr>\n",
              "    <tr>\n",
              "      <th>7038</th>\n",
              "      <td>0</td>\n",
              "      <td>20</td>\n",
              "      <td>0</td>\n",
              "      <td>481</td>\n",
              "      <td>13</td>\n",
              "      <td>4</td>\n",
              "      <td>55.15</td>\n",
              "      <td>0.00</td>\n",
              "      <td>1349.74</td>\n",
              "      <td>0</td>\n",
              "    </tr>\n",
              "    <tr>\n",
              "      <th>7039</th>\n",
              "      <td>1</td>\n",
              "      <td>40</td>\n",
              "      <td>1</td>\n",
              "      <td>811</td>\n",
              "      <td>22</td>\n",
              "      <td>4</td>\n",
              "      <td>85.10</td>\n",
              "      <td>0.00</td>\n",
              "      <td>2230.10</td>\n",
              "      <td>1</td>\n",
              "    </tr>\n",
              "    <tr>\n",
              "      <th>7041</th>\n",
              "      <td>1</td>\n",
              "      <td>21</td>\n",
              "      <td>1</td>\n",
              "      <td>913</td>\n",
              "      <td>67</td>\n",
              "      <td>1</td>\n",
              "      <td>67.85</td>\n",
              "      <td>0.00</td>\n",
              "      <td>4769.69</td>\n",
              "      <td>0</td>\n",
              "    </tr>\n",
              "  </tbody>\n",
              "</table>\n",
              "<p>4601 rows × 10 columns</p>\n",
              "</div>\n",
              "      <button class=\"colab-df-convert\" onclick=\"convertToInteractive('df-146f2b0f-1945-4121-88ad-bcb2cdeaab4a')\"\n",
              "              title=\"Convert this dataframe to an interactive table.\"\n",
              "              style=\"display:none;\">\n",
              "        \n",
              "  <svg xmlns=\"http://www.w3.org/2000/svg\" height=\"24px\"viewBox=\"0 0 24 24\"\n",
              "       width=\"24px\">\n",
              "    <path d=\"M0 0h24v24H0V0z\" fill=\"none\"/>\n",
              "    <path d=\"M18.56 5.44l.94 2.06.94-2.06 2.06-.94-2.06-.94-.94-2.06-.94 2.06-2.06.94zm-11 1L8.5 8.5l.94-2.06 2.06-.94-2.06-.94L8.5 2.5l-.94 2.06-2.06.94zm10 10l.94 2.06.94-2.06 2.06-.94-2.06-.94-.94-2.06-.94 2.06-2.06.94z\"/><path d=\"M17.41 7.96l-1.37-1.37c-.4-.4-.92-.59-1.43-.59-.52 0-1.04.2-1.43.59L10.3 9.45l-7.72 7.72c-.78.78-.78 2.05 0 2.83L4 21.41c.39.39.9.59 1.41.59.51 0 1.02-.2 1.41-.59l7.78-7.78 2.81-2.81c.8-.78.8-2.07 0-2.86zM5.41 20L4 18.59l7.72-7.72 1.47 1.35L5.41 20z\"/>\n",
              "  </svg>\n",
              "      </button>\n",
              "      \n",
              "  <style>\n",
              "    .colab-df-container {\n",
              "      display:flex;\n",
              "      flex-wrap:wrap;\n",
              "      gap: 12px;\n",
              "    }\n",
              "\n",
              "    .colab-df-convert {\n",
              "      background-color: #E8F0FE;\n",
              "      border: none;\n",
              "      border-radius: 50%;\n",
              "      cursor: pointer;\n",
              "      display: none;\n",
              "      fill: #1967D2;\n",
              "      height: 32px;\n",
              "      padding: 0 0 0 0;\n",
              "      width: 32px;\n",
              "    }\n",
              "\n",
              "    .colab-df-convert:hover {\n",
              "      background-color: #E2EBFA;\n",
              "      box-shadow: 0px 1px 2px rgba(60, 64, 67, 0.3), 0px 1px 3px 1px rgba(60, 64, 67, 0.15);\n",
              "      fill: #174EA6;\n",
              "    }\n",
              "\n",
              "    [theme=dark] .colab-df-convert {\n",
              "      background-color: #3B4455;\n",
              "      fill: #D2E3FC;\n",
              "    }\n",
              "\n",
              "    [theme=dark] .colab-df-convert:hover {\n",
              "      background-color: #434B5C;\n",
              "      box-shadow: 0px 1px 3px 1px rgba(0, 0, 0, 0.15);\n",
              "      filter: drop-shadow(0px 1px 2px rgba(0, 0, 0, 0.3));\n",
              "      fill: #FFFFFF;\n",
              "    }\n",
              "  </style>\n",
              "\n",
              "      <script>\n",
              "        const buttonEl =\n",
              "          document.querySelector('#df-146f2b0f-1945-4121-88ad-bcb2cdeaab4a button.colab-df-convert');\n",
              "        buttonEl.style.display =\n",
              "          google.colab.kernel.accessAllowed ? 'block' : 'none';\n",
              "\n",
              "        async function convertToInteractive(key) {\n",
              "          const element = document.querySelector('#df-146f2b0f-1945-4121-88ad-bcb2cdeaab4a');\n",
              "          const dataTable =\n",
              "            await google.colab.kernel.invokeFunction('convertToInteractive',\n",
              "                                                     [key], {});\n",
              "          if (!dataTable) return;\n",
              "\n",
              "          const docLinkHtml = 'Like what you see? Visit the ' +\n",
              "            '<a target=\"_blank\" href=https://colab.research.google.com/notebooks/data_table.ipynb>data table notebook</a>'\n",
              "            + ' to learn more about interactive tables.';\n",
              "          element.innerHTML = '';\n",
              "          dataTable['output_type'] = 'display_data';\n",
              "          await google.colab.output.renderOutput(dataTable, element);\n",
              "          const docLink = document.createElement('div');\n",
              "          docLink.innerHTML = docLinkHtml;\n",
              "          element.appendChild(docLink);\n",
              "        }\n",
              "      </script>\n",
              "    </div>\n",
              "  </div>\n",
              "  "
            ]
          },
          "metadata": {},
          "execution_count": 56
        }
      ]
    },
    {
      "cell_type": "markdown",
      "source": [
        "## PART 2: MODEL BUILDING"
      ],
      "metadata": {
        "id": "XhbV1SXTSUm0"
      }
    },
    {
      "cell_type": "code",
      "source": [
        "from sklearn.linear_model import LogisticRegression\n",
        "from sklearn.metrics import precision_score, recall_score, accuracy_score, f1_score"
      ],
      "metadata": {
        "id": "WcWJW-yUFZIh"
      },
      "execution_count": 57,
      "outputs": []
    },
    {
      "cell_type": "markdown",
      "source": [
        "### Split our data with our target and features that will be used for training"
      ],
      "metadata": {
        "id": "hgPvGRrqSfaA"
      }
    },
    {
      "cell_type": "code",
      "source": [
        "y = final_data['Customer Status']   # Target variable\n",
        "X = final_data.drop(['Customer Status'], axis=1) # Features used for classification"
      ],
      "metadata": {
        "id": "_TGXGW-uGoQ-"
      },
      "execution_count": 58,
      "outputs": []
    },
    {
      "cell_type": "code",
      "source": [
        "scaling = StandardScaler()\n",
        "X = scaling.fit_transform(X)"
      ],
      "metadata": {
        "id": "1j9hQxubIB0N"
      },
      "execution_count": 59,
      "outputs": []
    },
    {
      "cell_type": "code",
      "source": [
        "y"
      ],
      "metadata": {
        "colab": {
          "base_uri": "https://localhost:8080/"
        },
        "id": "busv35lBHBWp",
        "outputId": "723ecca8-0b7c-4178-b76d-52fe51c0aeb6"
      },
      "execution_count": 60,
      "outputs": [
        {
          "output_type": "execute_result",
          "data": {
            "text/plain": [
              "0       0\n",
              "1       0\n",
              "2       1\n",
              "3       1\n",
              "4       1\n",
              "       ..\n",
              "7035    0\n",
              "7036    1\n",
              "7038    0\n",
              "7039    1\n",
              "7041    0\n",
              "Name: Customer Status, Length: 4601, dtype: int64"
            ]
          },
          "metadata": {},
          "execution_count": 60
        }
      ]
    },
    {
      "cell_type": "code",
      "source": [
        "X"
      ],
      "metadata": {
        "colab": {
          "base_uri": "https://localhost:8080/"
        },
        "id": "Og20GJHqHB-k",
        "outputId": "b5560b4a-2636-4ec9-b3d4-738a942e1cc5"
      },
      "execution_count": 61,
      "outputs": [
        {
          "output_type": "execute_result",
          "data": {
            "text/plain": [
              "array([[-0.99934818, -0.62747676,  0.99501352, ..., -0.73780879,\n",
              "        -0.26108348, -0.97040596],\n",
              "       [ 1.00065224, -0.10904692, -1.00501147, ..., -4.02899788,\n",
              "         4.36485978, -1.08977302],\n",
              "       [ 1.00065224,  0.12136634, -1.00501147, ..., -0.34532503,\n",
              "        -0.26108348, -1.15357102],\n",
              "       ...,\n",
              "       [-0.99934818, -1.60673313, -1.00501147, ..., -1.23196002,\n",
              "        -0.26108348, -0.84763336],\n",
              "       [ 1.00065224, -0.45466681,  0.99501352, ...,  0.18429161,\n",
              "        -0.26108348, -0.55935533],\n",
              "       [ 1.00065224, -1.54912981,  0.99501352, ..., -0.63141259,\n",
              "        -0.26108348,  0.27224538]])"
            ]
          },
          "metadata": {},
          "execution_count": 61
        }
      ]
    },
    {
      "cell_type": "code",
      "source": [
        "from sklearn.model_selection import train_test_split"
      ],
      "metadata": {
        "id": "ev9QxETOI_jp"
      },
      "execution_count": 62,
      "outputs": []
    },
    {
      "cell_type": "markdown",
      "source": [
        "### Create a 80/20 train test split"
      ],
      "metadata": {
        "id": "1bX3rbbqSl-k"
      }
    },
    {
      "cell_type": "code",
      "source": [
        "X_train, X_test, y_train, y_test = train_test_split(X, y, test_size=.2)"
      ],
      "metadata": {
        "id": "m7vhd_U0JJCK"
      },
      "execution_count": 63,
      "outputs": []
    },
    {
      "cell_type": "code",
      "source": [
        "log_reg = LogisticRegression()"
      ],
      "metadata": {
        "id": "A7c3kjgcHDCr"
      },
      "execution_count": 64,
      "outputs": []
    },
    {
      "cell_type": "code",
      "source": [
        "log_reg.fit(X_train,y_train)"
      ],
      "metadata": {
        "colab": {
          "base_uri": "https://localhost:8080/"
        },
        "id": "0sr2t0BkH-x-",
        "outputId": "ccd5343e-c773-4ca7-adba-4572f0f38914"
      },
      "execution_count": 65,
      "outputs": [
        {
          "output_type": "execute_result",
          "data": {
            "text/plain": [
              "LogisticRegression()"
            ]
          },
          "metadata": {},
          "execution_count": 65
        }
      ]
    },
    {
      "cell_type": "code",
      "source": [
        "y_pred_train = log_reg.predict(X_train)\n",
        "y_pred_test = log_reg.predict(X_test)"
      ],
      "metadata": {
        "id": "Eu3as2_CI65E"
      },
      "execution_count": 66,
      "outputs": []
    },
    {
      "cell_type": "code",
      "source": [
        "y_pred_train"
      ],
      "metadata": {
        "colab": {
          "base_uri": "https://localhost:8080/"
        },
        "id": "7wexUdeFJn_i",
        "outputId": "976b897f-4c2c-4927-8ab2-41aa869ae2d8"
      },
      "execution_count": 67,
      "outputs": [
        {
          "output_type": "execute_result",
          "data": {
            "text/plain": [
              "array([0, 0, 0, ..., 0, 0, 0])"
            ]
          },
          "metadata": {},
          "execution_count": 67
        }
      ]
    },
    {
      "cell_type": "markdown",
      "source": [
        "## PART 3: RESULTS AND CONCLUSION"
      ],
      "metadata": {
        "id": "RvJ3PzX9l_84"
      }
    },
    {
      "cell_type": "code",
      "source": [
        "np.abs(y_train, y_pred_train).value_counts(normalize=True)"
      ],
      "metadata": {
        "colab": {
          "base_uri": "https://localhost:8080/"
        },
        "id": "DCh_0TxTKlLA",
        "outputId": "34dc8808-3ae5-46f9-f070-cc683d460d1d"
      },
      "execution_count": 68,
      "outputs": [
        {
          "output_type": "execute_result",
          "data": {
            "text/plain": [
              "0    0.655978\n",
              "1    0.344022\n",
              "Name: Customer Status, dtype: float64"
            ]
          },
          "metadata": {},
          "execution_count": 68
        }
      ]
    },
    {
      "cell_type": "code",
      "source": [
        "from sklearn.metrics import confusion_matrix"
      ],
      "metadata": {
        "id": "U-iibd-EKuk5"
      },
      "execution_count": 69,
      "outputs": []
    },
    {
      "cell_type": "code",
      "source": [
        "confusion_matrix(y_test, y_pred_test)"
      ],
      "metadata": {
        "colab": {
          "base_uri": "https://localhost:8080/"
        },
        "id": "kCun9HzZLOz8",
        "outputId": "c54cf003-8e6c-45f4-8ce0-65c81da80d61"
      },
      "execution_count": 70,
      "outputs": [
        {
          "output_type": "execute_result",
          "data": {
            "text/plain": [
              "array([[505,  96],\n",
              "       [120, 200]])"
            ]
          },
          "metadata": {},
          "execution_count": 70
        }
      ]
    },
    {
      "cell_type": "code",
      "source": [
        "precision_score(y_test, y_pred_test)"
      ],
      "metadata": {
        "colab": {
          "base_uri": "https://localhost:8080/"
        },
        "id": "UB96kv2kMax9",
        "outputId": "bbaa7a7e-09b1-4c98-cbf9-5a3fff19ae1e"
      },
      "execution_count": 71,
      "outputs": [
        {
          "output_type": "execute_result",
          "data": {
            "text/plain": [
              "0.6756756756756757"
            ]
          },
          "metadata": {},
          "execution_count": 71
        }
      ]
    },
    {
      "cell_type": "code",
      "source": [
        "recall_score(y_test, y_pred_test)"
      ],
      "metadata": {
        "colab": {
          "base_uri": "https://localhost:8080/"
        },
        "id": "JpyGBiJ8MeeG",
        "outputId": "b2f8ca6b-26d5-43f2-bed3-01cdab4d42f6"
      },
      "execution_count": 72,
      "outputs": [
        {
          "output_type": "execute_result",
          "data": {
            "text/plain": [
              "0.625"
            ]
          },
          "metadata": {},
          "execution_count": 72
        }
      ]
    },
    {
      "cell_type": "code",
      "source": [
        "accuracy_score(y_test, y_pred_test)"
      ],
      "metadata": {
        "colab": {
          "base_uri": "https://localhost:8080/"
        },
        "id": "0phwooheMYPK",
        "outputId": "4ea487ca-0bab-448d-a132-7af9439c47c7"
      },
      "execution_count": 73,
      "outputs": [
        {
          "output_type": "execute_result",
          "data": {
            "text/plain": [
              "0.7654723127035831"
            ]
          },
          "metadata": {},
          "execution_count": 73
        }
      ]
    },
    {
      "cell_type": "code",
      "source": [
        "f1_score(y_test, y_pred_test)"
      ],
      "metadata": {
        "colab": {
          "base_uri": "https://localhost:8080/"
        },
        "id": "137ctwnzMBTp",
        "outputId": "3912b4e5-07b1-4b55-f8a5-40c6ffced7f1"
      },
      "execution_count": 74,
      "outputs": [
        {
          "output_type": "execute_result",
          "data": {
            "text/plain": [
              "0.6493506493506493"
            ]
          },
          "metadata": {},
          "execution_count": 74
        }
      ]
    },
    {
      "cell_type": "code",
      "source": [
        "from sklearn.metrics import roc_auc_score\n",
        "from sklearn.metrics import roc_curve"
      ],
      "metadata": {
        "id": "w_E7TGJCOvEk"
      },
      "execution_count": 75,
      "outputs": []
    },
    {
      "cell_type": "code",
      "source": [
        "proba_pred_y = log_reg.predict_proba(X_test)[::,1]"
      ],
      "metadata": {
        "id": "80CEqWNXNUHO"
      },
      "execution_count": 76,
      "outputs": []
    },
    {
      "cell_type": "code",
      "source": [
        "fpr, tpr, _ = roc_curve(y_test, proba_pred_y)"
      ],
      "metadata": {
        "id": "nFTdR0HGOaEe"
      },
      "execution_count": 77,
      "outputs": []
    },
    {
      "cell_type": "code",
      "source": [
        "auc = roc_auc_score(y_test, proba_pred_y)"
      ],
      "metadata": {
        "id": "PHKToCPAOh93"
      },
      "execution_count": 78,
      "outputs": []
    },
    {
      "cell_type": "code",
      "source": [
        "auc"
      ],
      "metadata": {
        "colab": {
          "base_uri": "https://localhost:8080/"
        },
        "id": "mi36IXrMOv6w",
        "outputId": "17975afc-6c8b-4eb0-a0c1-d1fc0cfaccf0"
      },
      "execution_count": 79,
      "outputs": [
        {
          "output_type": "execute_result",
          "data": {
            "text/plain": [
              "0.8126299916805324"
            ]
          },
          "metadata": {},
          "execution_count": 79
        }
      ]
    },
    {
      "cell_type": "code",
      "source": [
        "plt.figure(figsize=(20,10))\n",
        "plt.plot(fpr, tpr, label='The AUC is'+str(auc))\n",
        "plt.ylabel('True Positive Rate')\n",
        "plt.xlabel('False Positive Rate')\n",
        "plt.legend(loc=4)\n",
        "plt.show()"
      ],
      "metadata": {
        "colab": {
          "base_uri": "https://localhost:8080/",
          "height": 611
        },
        "id": "SGdDH2RfO1wS",
        "outputId": "a6d72bda-2a00-453a-b95b-b53a6b24fb45"
      },
      "execution_count": 80,
      "outputs": [
        {
          "output_type": "display_data",
          "data": {
            "text/plain": [
              "<Figure size 1440x720 with 1 Axes>"
            ],
            "image/png": "[encoded data removed]"
          },
          "metadata": {}
        }
      ]
    },
    {
      "cell_type": "markdown",
      "source": [
        "## CONCLUSION:"
      ],
      "metadata": {
        "id": "do9pluVEyp0S"
      }
    },
    {
      "cell_type": "markdown",
      "source": [
        "## The logistic regression is appropriate for these kind of tasks since it's a binary classification. Our model did fairly well, however we could probably increase the performance with better data (more relevant features, bigger size...)\n",
        "## I would also try different scaling/normalizing methods for the feature engineering, as well as doing one-hot encoding for the cities instead of encoding their labels\n",
        "## Before this model, I used SVC but it didn't seem appropriate with this kind of data.\n"
      ],
      "metadata": {
        "id": "gSW2nZeZyu4w"
      }
    },
    {
      "cell_type": "code",
      "source": [
        "\n"
      ],
      "metadata": {
        "id": "dbZcEJAAPoW9"
      },
      "execution_count": 80,
      "outputs": []
    }
  ]
}